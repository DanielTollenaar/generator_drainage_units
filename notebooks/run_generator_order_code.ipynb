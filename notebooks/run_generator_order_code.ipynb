{
 "cells": [
  {
   "cell_type": "code",
   "execution_count": null,
   "metadata": {},
   "outputs": [],
   "source": [
    "import logging\n",
    "from pathlib import Path\n",
    "from warnings import simplefilter\n",
    "\n",
    "import pandas as pd\n",
    "from dotenv import dotenv_values\n",
    "\n",
    "from generator_drainage_units import run_generator_order_levels\n",
    "\n",
    "simplefilter(action=\"ignore\", category=pd.errors.PerformanceWarning)\n",
    "logging.basicConfig(level=logging.INFO)"
   ]
  },
  {
   "cell_type": "code",
   "execution_count": null,
   "metadata": {},
   "outputs": [],
   "source": [
    "%load_ext autoreload\n",
    "%autoreload 2"
   ]
  },
  {
   "cell_type": "code",
   "execution_count": null,
   "metadata": {},
   "outputs": [],
   "source": [
    "# Define case and base_dir\n",
    "waterschap = \"Waterschap Vallei & Veluwe\"\n",
    "\n",
    "config = dotenv_values(\"..\\\\.env\")\n",
    "base_dir = config[\"BASE_DIR\"]\n",
    "case_name = \"vallei_en_veluwe\"\n",
    "# case_name = \"geerestein\"\n",
    "# case_name = \"hattemerbroek\"\n",
    "# case_name = \"pangelerbeek\"\n",
    "# case_name = \"Leuvenumse_beek\"\n",
    "# case_name = \"Barneveldsebeek\"\n",
    "# case_name = \"test_d_infinity\"\n",
    "\n",
    "# Define waterboard specific variables\n",
    "case_path = Path(base_dir, case_name)\n",
    "range_order_code_min = 721\n",
    "range_order_code_max = 760"
   ]
  },
  {
   "cell_type": "code",
   "execution_count": null,
   "metadata": {},
   "outputs": [],
   "source": [
    "case_path = Path(base_dir, case_name)\n",
    "\n",
    "order = run_generator_order_levels(\n",
    "    path=case_path,\n",
    "    waterschap=waterschap,\n",
    "    range_order_code_min=range_order_code_min,\n",
    "    range_order_code_max=range_order_code_max,\n",
    "    buffer_rws_water=50.0,\n",
    "    generate_order_no=True,\n",
    "    generate_order_code=True,\n",
    "    generate_order_code_sub_waterlines=False,\n",
    "    order_for_each_edge=True,\n",
    "    water_lines=[\"hydroobjecten\"],\n",
    "    read_results=False,\n",
    "    write_results=True,\n",
    "    create_html_map=False,\n",
    "    open_html=False,\n",
    ")"
   ]
  },
  {
   "cell_type": "code",
   "execution_count": null,
   "metadata": {},
   "outputs": [],
   "source": [
    "# case_path = Path(base_dir, case_name)\n",
    "\n",
    "# order = run_generator_order_levels(\n",
    "#     path=case_path,\n",
    "#     waterschap=waterschap,\n",
    "#     range_order_code_min=range_order_code_min,\n",
    "#     range_order_code_max=range_order_code_max,\n",
    "#     buffer_rws_water=50.0,\n",
    "#     generate_order_no=False,\n",
    "#     generate_order_code=False,\n",
    "#     generate_order_code_sub_waterlines=True,\n",
    "#     order_for_each_edge=False,\n",
    "#     water_lines=[\"hydroobjecten\"],\n",
    "#     read_results=False,\n",
    "#     write_results=True,\n",
    "#     create_html_map=False,\n",
    "#     open_html=False,\n",
    "# )"
   ]
  },
  {
   "cell_type": "code",
   "execution_count": null,
   "metadata": {},
   "outputs": [],
   "source": [
    "order.generate_folium_map(order_labels=True)\n",
    "order.folium_map"
   ]
  },
  {
   "cell_type": "code",
   "execution_count": null,
   "metadata": {},
   "outputs": [],
   "source": []
  },
  {
   "cell_type": "code",
   "execution_count": null,
   "metadata": {},
   "outputs": [],
   "source": []
  },
  {
   "cell_type": "code",
   "execution_count": null,
   "metadata": {},
   "outputs": [],
   "source": []
  },
  {
   "cell_type": "code",
   "execution_count": null,
   "metadata": {},
   "outputs": [],
   "source": []
  }
 ],
 "metadata": {
  "kernelspec": {
   "display_name": "default",
   "language": "python",
   "name": "python3"
  },
  "language_info": {
   "codemirror_mode": {
    "name": "ipython",
    "version": 3
   },
   "file_extension": ".py",
   "mimetype": "text/x-python",
   "name": "python",
   "nbconvert_exporter": "python",
   "pygments_lexer": "ipython3",
   "version": "3.11.0"
  }
 },
 "nbformat": 4,
 "nbformat_minor": 2
}
