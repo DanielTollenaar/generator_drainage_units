{
 "cells": [
  {
   "cell_type": "code",
   "execution_count": 2,
   "metadata": {},
   "outputs": [],
   "source": [
    "import logging\n",
    "from pathlib import Path\n",
    "\n",
    "import matplotlib.pyplot as plt\n",
    "import numpy as np\n",
    "import pandas as pd\n",
    "from dotenv import dotenv_values\n",
    "\n",
    "from generator_drainage_units import run_generator_drainage_units\n",
    "\n",
    "logging.basicConfig(level=logging.INFO)\n",
    "pd.set_option(\"future.no_silent_downcasting\", True)"
   ]
  },
  {
   "cell_type": "code",
   "execution_count": 3,
   "metadata": {},
   "outputs": [],
   "source": [
    "%load_ext autoreload\n",
    "%autoreload 2"
   ]
  },
  {
   "cell_type": "code",
   "execution_count": 4,
   "metadata": {},
   "outputs": [],
   "source": [
    "# Define case and base_dir\n",
    "config = dotenv_values(\"..\\\\.env\")\n",
    "base_dir = Path(config[\"BASE_DIR\"])\n",
    "# case_name\n",
    "# case_name = \"vallei_en_veluwe\"\n",
    "# case_name = \"geerestein\"\n",
    "# case_name = \"hattemerbroek\"\n",
    "# case_name = \"pangelerbeek\"\n",
    "# case_name = \"Leuvenumse_beek\"\n",
    "case_name = \"test_d_infinity\"\n",
    "case_path = Path(base_dir, case_name)\n",
    "\n",
    "dir_basisdata = \"0_basisdata\"\n",
    "dir_results = \"1_resultaat\"\n",
    "ghg_file_name = \"GHG_2000-2010_L1.NC\""
   ]
  },
  {
   "cell_type": "code",
   "execution_count": null,
   "metadata": {},
   "outputs": [],
   "source": [
    "resolution = 25.0\n",
    "\n",
    "gdu = run_generator_drainage_units(\n",
    "    path=case_path,\n",
    "    dir_basisdata=dir_basisdata,\n",
    "    dir_results=dir_results,\n",
    "    ghg_file_name=ghg_file_name,\n",
    "    read_results=False,\n",
    "    write_results=True,\n",
    "    preprocess=True,\n",
    "    process=True,\n",
    "    postprocess=True,\n",
    "    resolution=resolution,\n",
    "    depth_waterways=0.2,\n",
    "    buffer_waterways=2.5,\n",
    "    smooth_distance=50.0,\n",
    "    iterations=int(25000/resolution),\n",
    "    iteration_group=100,\n",
    "    method=\"d-infinity\",\n",
    ")"
   ]
  },
  {
   "cell_type": "code",
   "execution_count": 112,
   "metadata": {},
   "outputs": [],
   "source": [
    "# fig, axs = plt.subplots(2, 2, figsize=(10, 10))\n",
    "# ghg = gdu.ghg[0].copy()\n",
    "# ghg.data[ghg.data<-5.0] = np.nan\n",
    "# ghg.plot(ax=axs[0,0], vmin=0, vmax=40)\n",
    "# gdu.flow_direction.plot(ax=axs[0,1])\n",
    "\n",
    "# # gdu.flow_direction_d8.plot(ax=axs[1,0], cmap=\"hsv\", vmin=1, vmax=8)\n",
    "# # gdu.flow_direction_d16.plot(ax=axs[1,1], cmap=\"hsv\", vmin=1, vmax=16)\n",
    "# gdu.flow_direction_d8_ind.plot(ax=axs[1,0], cmap=\"hsv\")\n",
    "# gdu.flow_direction_d16_ind.plot(ax=axs[1,1], cmap=\"hsv\")\n",
    "\n",
    "# # gdu.drainage_units_flat_d16_index.plot(ax=axs[0,1], cmap=\"hsv\", vmin=1, vmax=16)\n",
    "# # flow_x.data[(flow_x.data<0.01) & (flow_x.data>-0.01)] = np.nan\n",
    "# # flow_x[0].plot(ax=axs[1,0], vmin=-0.5, vmax=0.5, cmap=\"RdBu\")\n",
    "\n",
    "# # flow_y.data[(flow_y.data<0.01) & (flow_y.data>-0.01)] = np.nan\n",
    "# # flow_y[0].plot(ax=axs[1,1], vmin=-0.5, vmax=0.5, cmap=\"RdBu\")\n",
    "\n",
    "# for ax_ in axs:\n",
    "#     for ax in ax_:\n",
    "#         ax.set_aspect(\"equal\")\n",
    "#         ax.set_xticks([])\n",
    "#         ax.set_yticks([])\n",
    "#         ax.set_xlabel(\"\")\n",
    "#         ax.set_ylabel(\"\")\n"
   ]
  },
  {
   "cell_type": "code",
   "execution_count": null,
   "metadata": {},
   "outputs": [],
   "source": [
    "gdu.generate_folium_map(\n",
    "    order_labels=True,\n",
    "    zmin=3.0,\n",
    "    zmax=15.0,\n",
    "    dx=0.0,\n",
    "    dy=-13.0,\n",
    ")"
   ]
  },
  {
   "cell_type": "code",
   "execution_count": null,
   "metadata": {},
   "outputs": [],
   "source": []
  },
  {
   "cell_type": "code",
   "execution_count": null,
   "metadata": {},
   "outputs": [],
   "source": []
  }
 ],
 "metadata": {
  "kernelspec": {
   "display_name": "default",
   "language": "python",
   "name": "python3"
  },
  "language_info": {
   "codemirror_mode": {
    "name": "ipython",
    "version": 3
   },
   "file_extension": ".py",
   "mimetype": "text/x-python",
   "name": "python",
   "nbconvert_exporter": "python",
   "pygments_lexer": "ipython3",
   "version": "3.12.9"
  }
 },
 "nbformat": 4,
 "nbformat_minor": 2
}
