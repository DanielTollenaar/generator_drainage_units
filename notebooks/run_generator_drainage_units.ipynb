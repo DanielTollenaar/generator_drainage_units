{
 "cells": [
  {
   "cell_type": "code",
   "execution_count": 2,
   "metadata": {},
   "outputs": [],
   "source": [
    "import logging\n",
    "from pathlib import Path\n",
    "\n",
    "import pandas as pd\n",
    "from dotenv import dotenv_values\n",
    "\n",
    "from generator_drainage_units import run_generator_drainage_units\n",
    "\n",
    "logging.basicConfig(level=logging.INFO)\n",
    "pd.set_option(\"future.no_silent_downcasting\", True)"
   ]
  },
  {
   "cell_type": "code",
   "execution_count": 3,
   "metadata": {},
   "outputs": [],
   "source": [
    "%load_ext autoreload\n",
    "%autoreload 2"
   ]
  },
  {
   "cell_type": "code",
   "execution_count": 4,
   "metadata": {},
   "outputs": [],
   "source": [
    "# Define case and base_dir\n",
    "config = dotenv_values(\"..\\\\.env\")\n",
    "base_dir = Path(config[\"BASE_DIR\"])\n",
    "# case_name\n",
    "# case_name = \"vallei_en_veluwe\"\n",
    "# case_name = \"geerestein\"\n",
    "# case_name = \"hattemerbroek\"\n",
    "# case_name = \"pangelerbeek\"\n",
    "case_name = \"Leuvenumse_beek\"\n",
    "case_path = Path(base_dir, case_name)\n",
    "\n",
    "dir_basisdata = \"0_basisdata\"\n",
    "dir_results = \"1_resultaat\"\n",
    "ghg_file_name = \"GHG_2000-2010_L1.NC\""
   ]
  },
  {
   "cell_type": "code",
   "execution_count": null,
   "metadata": {},
   "outputs": [],
   "source": [
    "gdu = run_generator_drainage_units(\n",
    "    path=case_path,\n",
    "    dir_basisdata=dir_basisdata,\n",
    "    dir_results=dir_results,\n",
    "    ghg_file_name=ghg_file_name,\n",
    "    read_results=True,\n",
    "    write_results=True,\n",
    "    preprocess=True,\n",
    "    process=True,\n",
    "    postprocess=False,\n",
    "    resolution=2.0,\n",
    "    depth_waterways=0.2,\n",
    "    buffer_waterways=2.5,\n",
    "    smooth_distance=25.0,\n",
    "    iterations=5,\n",
    "    iteration_group=100,\n",
    ")"
   ]
  },
  {
   "cell_type": "code",
   "execution_count": null,
   "metadata": {},
   "outputs": [],
   "source": [
    "gdu.aggregate_drainage_units()"
   ]
  },
  {
   "cell_type": "code",
   "execution_count": null,
   "metadata": {},
   "outputs": [],
   "source": []
  },
  {
   "cell_type": "code",
   "execution_count": null,
   "metadata": {},
   "outputs": [],
   "source": [
    "gdu.generate_folium_map(\n",
    "    order_labels=True,\n",
    "    zmin=7.5,\n",
    "    zmax=25.0,\n",
    "    dx=0.0,\n",
    "    dy=-9.0,\n",
    ")"
   ]
  },
  {
   "cell_type": "code",
   "execution_count": null,
   "metadata": {},
   "outputs": [],
   "source": []
  },
  {
   "cell_type": "code",
   "execution_count": null,
   "metadata": {},
   "outputs": [],
   "source": []
  },
  {
   "cell_type": "code",
   "execution_count": null,
   "metadata": {},
   "outputs": [],
   "source": []
  },
  {
   "cell_type": "code",
   "execution_count": null,
   "metadata": {},
   "outputs": [],
   "source": []
  },
  {
   "cell_type": "code",
   "execution_count": null,
   "metadata": {},
   "outputs": [],
   "source": [
    "import geopandas as gpd"
   ]
  },
  {
   "cell_type": "code",
   "execution_count": null,
   "metadata": {},
   "outputs": [],
   "source": [
    "gdu.drainage_units_0_gdf"
   ]
  },
  {
   "cell_type": "code",
   "execution_count": null,
   "metadata": {},
   "outputs": [],
   "source": [
    "gdu.all_waterways_0"
   ]
  },
  {
   "cell_type": "code",
   "execution_count": null,
   "metadata": {},
   "outputs": [],
   "source": [
    "sjoin = gpd.sjoin(\n",
    "    gdu.drainage_units_0_gdf.rename(columns={\"drainage_unit_id\": \"drainage_unit_id_old\"}),\n",
    "    gdu.all_waterways_0.drop(columns=\"color_id\"), \n",
    "    how=\"inner\", \n",
    "    predicate=\"intersects\"\n",
    ")"
   ]
  },
  {
   "cell_type": "code",
   "execution_count": null,
   "metadata": {},
   "outputs": [],
   "source": [
    "sjoin = sjoin.merge(\n",
    "    gdu.all_waterways_0[[\"geometry\", \"drainage_unit_id\"]].rename(columns={\"geometry\": \"waterway_geometry\"}), \n",
    "    how=\"left\", \n",
    "    on=\"drainage_unit_id\", \n",
    ")"
   ]
  },
  {
   "cell_type": "code",
   "execution_count": null,
   "metadata": {},
   "outputs": [],
   "source": [
    "sjoin['overlap_length'] = sjoin.geometry.intersection(sjoin.waterway_geometry).length"
   ]
  },
  {
   "cell_type": "code",
   "execution_count": null,
   "metadata": {},
   "outputs": [],
   "source": [
    "drainage_units_0_gdf = sjoin.loc[sjoin.groupby('drainage_unit_id')['overlap_length'].idxmax()]"
   ]
  },
  {
   "cell_type": "code",
   "execution_count": null,
   "metadata": {},
   "outputs": [],
   "source": [
    "drainage_units_0_gdf = drainage_units_0_gdf.drop(columns=[\"drainage_unit_id_old\", \"waterway_geometry\", \"overlap_length\"])"
   ]
  },
  {
   "cell_type": "code",
   "execution_count": null,
   "metadata": {},
   "outputs": [],
   "source": [
    "drainage_units_0_gdf.to_file(Path(gdu.dir_results, \"drainage_units_0_gdf.gpkg\"))"
   ]
  },
  {
   "cell_type": "code",
   "execution_count": null,
   "metadata": {},
   "outputs": [],
   "source": []
  },
  {
   "cell_type": "code",
   "execution_count": null,
   "metadata": {},
   "outputs": [],
   "source": [
    "import imod"
   ]
  },
  {
   "cell_type": "code",
   "execution_count": null,
   "metadata": {},
   "outputs": [],
   "source": [
    "gdu.drainage_units_0.data[0] = imod.prepare.rasterize(\n",
    "    drainage_units_0_gdf.reset_index(drop=True), \n",
    "    column=\"drainage_unit_id\",\n",
    "    like=gdu.drainage_units_0[0]\n",
    ")"
   ]
  },
  {
   "cell_type": "code",
   "execution_count": null,
   "metadata": {},
   "outputs": [],
   "source": [
    "gdu.drainage_units_0 = gdu.drainage_units_0.fillna(-1)\n",
    "gdu.drainage_units_0.attrs[\"_FillValue\"] = -1"
   ]
  },
  {
   "cell_type": "code",
   "execution_count": null,
   "metadata": {},
   "outputs": [],
   "source": [
    "netcdf_file_path = Path(gdu.dir_results, \"drainage_units_0.nc\")\n",
    "encoding = {\n",
    "    'drainage_units_0': {\n",
    "        'dtype': 'float32',\n",
    "        'zlib': True,\n",
    "        'complevel': 9,\n",
    "    },\n",
    "}\n",
    "gdu.drainage_units_0.to_netcdf(\n",
    "    netcdf_file_path, \n",
    "    encoding=encoding\n",
    ")"
   ]
  }
 ],
 "metadata": {
  "kernelspec": {
   "display_name": "default",
   "language": "python",
   "name": "python3"
  },
  "language_info": {
   "codemirror_mode": {
    "name": "ipython",
    "version": 3
   },
   "file_extension": ".py",
   "mimetype": "text/x-python",
   "name": "python",
   "nbconvert_exporter": "python",
   "pygments_lexer": "ipython3",
   "version": "3.12.8"
  }
 },
 "nbformat": 4,
 "nbformat_minor": 2
}
