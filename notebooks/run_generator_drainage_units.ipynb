{
 "cells": [
  {
   "cell_type": "code",
   "execution_count": 13,
   "metadata": {},
   "outputs": [],
   "source": [
    "import logging\n",
    "from pathlib import Path\n",
    "\n",
    "import pandas as pd\n",
    "from dotenv import dotenv_values\n",
    "\n",
    "from generator_drainage_units import run_generator_drainage_units\n",
    "\n",
    "logging.basicConfig(level=logging.INFO)\n",
    "pd.set_option(\"future.no_silent_downcasting\", True)"
   ]
  },
  {
   "cell_type": "code",
   "execution_count": 14,
   "metadata": {},
   "outputs": [
    {
     "name": "stdout",
     "output_type": "stream",
     "text": [
      "The autoreload extension is already loaded. To reload it, use:\n",
      "  %reload_ext autoreload\n"
     ]
    }
   ],
   "source": [
    "%load_ext autoreload\n",
    "%autoreload 2"
   ]
  },
  {
   "cell_type": "code",
   "execution_count": 15,
   "metadata": {},
   "outputs": [],
   "source": [
    "# Define case and base_dir\n",
    "config = dotenv_values(\"..\\\\.env\")\n",
    "base_dir = Path(config[\"BASE_DIR\"])\n",
    "# case_name\n",
    "# case_name = \"vallei_en_veluwe\"\n",
    "# case_name = \"geerestein\"\n",
    "# case_name = \"hattemerbroek\"\n",
    "# case_name = \"pangelerbeek\"\n",
    "case_name = \"Leuvenumse_beek\"\n",
    "case_path = Path(base_dir, case_name)\n",
    "\n",
    "dir_basisdata = \"0_basisdata\"\n",
    "dir_results = \"1_resultaat\"\n",
    "ghg_file_name = \"GHG_2000-2010_L1.NC\""
   ]
  },
  {
   "cell_type": "code",
   "execution_count": 22,
   "metadata": {},
   "outputs": [
    {
     "name": "stderr",
     "output_type": "stream",
     "text": [
      "INFO:root: ### Case \"Leuvenumse_beek\" ###\n",
      "INFO:root:     - dir basisdata    = c:\\Users\\NLHARN\\Sweco AB\\51024754_Vallei_en_Veluwe_Afwateringseenheden - Documenten\\General\\Analyse\\3_analyses\\Leuvenumse_beek\\0_basisdata\n",
      "INFO:root:     - dir results      = c:\\Users\\NLHARN\\Sweco AB\\51024754_Vallei_en_Veluwe_Afwateringseenheden - Documenten\\General\\Analyse\\3_analyses\\Leuvenumse_beek\\1_resultaat\n",
      "INFO:root:   x read basisdata\n",
      "INFO:root:     - get dataset HYDROOBJECTEN\n",
      "INFO:root:     - get dataset OVERIGE_WATERGANGEN\n",
      "INFO:root:   x read results\n",
      "INFO:root:     - get dataset ALL_WATERWAYS_0\n",
      "INFO:root:     - get dataset ALL_WATERWAYS_1\n",
      "INFO:root:     - get dataset DRAINAGE_UNITS_0\n",
      "INFO:root:     - get dataset EDGES\n",
      "INFO:root:     - get dataset HYDROOBJECTEN_PROCESSED_0\n",
      "INFO:root:     - get dataset NODES\n",
      "INFO:root:     - get dataset OUTFLOW_NODES\n",
      "INFO:root:     - get dataset OVERIGE_WATERGANGEN_PROCESSED_4\n",
      "INFO:root:     - use dataset processed hydroobjecten: hydroobjecten_processed_0.gpkg\n",
      "INFO:root:     - use dataset processed overige_watergangen: overige_watergangen_processed_4.gpkg\n",
      "INFO:root:   x preprocessing GHG data\n",
      "INFO:root:     - resampling data to new resolution\n",
      "INFO:root:     - add depth at waterways\n",
      "INFO:root:     - calculate distance to waterways to add depth\n",
      "INFO:pyogrio._io:Created 6,227 records\n",
      "INFO:root:   x Case finished in 46.988 seconds\n"
     ]
    }
   ],
   "source": [
    "gdu = run_generator_drainage_units(\n",
    "    path=case_path,\n",
    "    dir_basisdata=dir_basisdata,\n",
    "    dir_results=dir_results,\n",
    "    ghg_file_name=ghg_file_name,\n",
    "    read_results=True,\n",
    "    write_results=True,\n",
    "    preprocess=True,\n",
    "    process=False,\n",
    "    postprocess=False,\n",
    "    resolution=2.0,\n",
    "    depth_waterways=0.2,\n",
    "    buffer_waterways=2.5,\n",
    "    smooth_distance=25.0,\n",
    "    iterations=12500,\n",
    "    iteration_group=100,\n",
    ")"
   ]
  },
  {
   "cell_type": "code",
   "execution_count": null,
   "metadata": {},
   "outputs": [],
   "source": [
    "gdu.generate_folium_map(\n",
    "    order_labels=True,\n",
    "    zmin=7.5,\n",
    "    zmax=25.0,\n",
    "    dx=0.0,\n",
    "    dy=-9.0,\n",
    ")"
   ]
  },
  {
   "cell_type": "code",
   "execution_count": null,
   "metadata": {},
   "outputs": [],
   "source": []
  },
  {
   "cell_type": "code",
   "execution_count": null,
   "metadata": {},
   "outputs": [],
   "source": []
  },
  {
   "cell_type": "code",
   "execution_count": null,
   "metadata": {},
   "outputs": [],
   "source": []
  }
 ],
 "metadata": {
  "kernelspec": {
   "display_name": "default",
   "language": "python",
   "name": "python3"
  },
  "language_info": {
   "codemirror_mode": {
    "name": "ipython",
    "version": 3
   },
   "file_extension": ".py",
   "mimetype": "text/x-python",
   "name": "python",
   "nbconvert_exporter": "python",
   "pygments_lexer": "ipython3",
   "version": "3.12.8"
  }
 },
 "nbformat": 4,
 "nbformat_minor": 2
}
