{
 "cells": [
  {
   "cell_type": "code",
   "execution_count": 1,
   "metadata": {},
   "outputs": [],
   "source": [
    "import logging\n",
    "from pathlib import Path\n",
    "\n",
    "import pandas as pd\n",
    "from dotenv import dotenv_values\n",
    "\n",
    "from generator_drainage_units import run_generator_drainage_units\n",
    "\n",
    "logging.basicConfig(level=logging.INFO)\n",
    "pd.set_option(\"future.no_silent_downcasting\", True)"
   ]
  },
  {
   "cell_type": "code",
   "execution_count": 2,
   "metadata": {},
   "outputs": [],
   "source": [
    "%load_ext autoreload\n",
    "%autoreload 2"
   ]
  },
  {
   "cell_type": "code",
   "execution_count": 3,
   "metadata": {},
   "outputs": [],
   "source": [
    "# Define case and base_dir\n",
    "config = dotenv_values(\"..\\\\.env\")\n",
    "base_dir = Path(config[\"BASE_DIR\"])\n",
    "# case_name\n",
    "# case_name = \"vallei_en_veluwe\"\n",
    "# case_name = \"geerestein\"\n",
    "# case_name = \"hattemerbroek\"\n",
    "# case_name = \"pangelerbeek\"\n",
    "# case_name = \"Leuvenumse_beek\"\n",
    "case_name = \"Leuvenumse_beek_dinf\"\n",
    "# case_name = \"West\"\n",
    "# case_name = \"Barneveldsebeek\"\n",
    "# case_name = \"Barneveldsebeek2\"\n",
    "\n",
    "case_path = Path(base_dir, case_name)\n",
    "dir_basisdata = \"0_basisdata\"\n",
    "dir_results = \"1_resultaat\"\n",
    "ghg_file_name = \"GHG_2000-2010_L1.NC\""
   ]
  },
  {
   "cell_type": "code",
   "execution_count": null,
   "metadata": {},
   "outputs": [],
   "source": [
    "resolution = 10.0\n",
    "\n",
    "gdu = run_generator_drainage_units(\n",
    "    path=case_path,\n",
    "    dir_basisdata=dir_basisdata,\n",
    "    dir_results=dir_results,\n",
    "    method=\"pyflwdir\",\n",
    "    ghg_file_name=ghg_file_name,\n",
    "    read_results=True,\n",
    "    write_results=True,\n",
    "    preprocess=True,\n",
    "    process=True,\n",
    "    postprocess=False,\n",
    "    resolution=resolution,\n",
    "    buffer_waterways=1.5*resolution,\n",
    "    depth_waterways=0.2,\n",
    "    smooth_distance=25.0,\n",
    "    iterations=20000,\n",
    "    iteration_group=100,\n",
    ")"
   ]
  },
  {
   "cell_type": "code",
   "execution_count": null,
   "metadata": {},
   "outputs": [],
   "source": [
    "gdu = run_generator_drainage_units(\n",
    "    path=case_path,\n",
    "    dir_basisdata=dir_basisdata,\n",
    "    dir_results=dir_results,\n",
    "    method=\"pyflwdir\",\n",
    "    ghg_file_name=ghg_file_name,\n",
    "    read_results=True,\n",
    "    write_results=True,\n",
    "    preprocess=False,\n",
    "    process=False,\n",
    "    postprocess=True,\n",
    "    resolution=resolution,\n",
    "    buffer_waterways=1.5*resolution,\n",
    "    depth_waterways=0.2,\n",
    "    smooth_distance=25.0,\n",
    "    iterations=20000,\n",
    "    iteration_group=100,\n",
    ")"
   ]
  },
  {
   "cell_type": "code",
   "execution_count": null,
   "metadata": {},
   "outputs": [],
   "source": [
    "gdu.generate_folium_map(\n",
    "    order_labels=True,\n",
    "    zmin=7.5,\n",
    "    zmax=25.0,\n",
    "    dx=0.0,\n",
    "    dy=-13.0,\n",
    ")"
   ]
  },
  {
   "cell_type": "code",
   "execution_count": null,
   "metadata": {},
   "outputs": [],
   "source": []
  }
 ],
 "metadata": {
  "kernelspec": {
   "display_name": "default",
   "language": "python",
   "name": "python3"
  },
  "language_info": {
   "codemirror_mode": {
    "name": "ipython",
    "version": 3
   },
   "file_extension": ".py",
   "mimetype": "text/x-python",
   "name": "python",
   "nbconvert_exporter": "python",
   "pygments_lexer": "ipython3",
   "version": "3.12.9"
  }
 },
 "nbformat": 4,
 "nbformat_minor": 2
}
