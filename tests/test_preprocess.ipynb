{
 "cells": [
  {
   "cell_type": "code",
   "execution_count": null,
   "metadata": {},
   "outputs": [],
   "source": [
    "import logging\n",
    "from pathlib import Path\n",
    "import pandas as pd\n",
    "import geopandas as gpd\n",
    "from shapely.geometry import LineString, Point\n",
    "from shapely.ops import nearest_points\n",
    "from dotenv import dotenv_values\n",
    "\n",
    "from generator_drainage_units.utils.general_functions import (\n",
    "    remove_z_dims,\n",
    "    snap_unconnected_endpoints_to_endpoint_or_line,\n",
    "    split_waterways_by_endpoints,\n",
    ")"
   ]
  },
  {
   "cell_type": "code",
   "execution_count": null,
   "metadata": {},
   "outputs": [],
   "source": [
    "%load_ext autoreload\n",
    "%autoreload 2"
   ]
  },
  {
   "cell_type": "code",
   "execution_count": null,
   "metadata": {},
   "outputs": [],
   "source": [
    "logging.basicConfig(level=logging.DEBUG)\n",
    "\n",
    "config = dotenv_values(\"..\\\\.env\")\n",
    "base_dir = config[\"BASE_DIR\"]\n",
    "# case_name = \"vallei_en_veluwe\"\n",
    "# case_name = \"geerestein\"\n",
    "# case_name = \"hattemerbroek\"\n",
    "# case_name = \"pangelerbeek\"\n",
    "case_name = \"Leuvenumse_beek\""
   ]
  },
  {
   "cell_type": "code",
   "execution_count": null,
   "metadata": {},
   "outputs": [],
   "source": [
    "case_path = Path(base_dir, case_name)"
   ]
  },
  {
   "cell_type": "code",
   "execution_count": null,
   "metadata": {},
   "outputs": [],
   "source": [
    "hydroobjecten = gpd.read_file(Path(case_path, \"0_basisdata\", \"hydroobjecten.gpkg\"))\n",
    "\n",
    "\n",
    "def preprocess_hydroobjecten(hydroobjecten):\n",
    "    # Setup hydroobjecten correctly\n",
    "    hydroobjecten = hydroobjecten.rename(columns={\"CODE\": \"code\"})\n",
    "    hydroobjecten = hydroobjecten.to_crs(28992)\n",
    "    hydroobjecten = remove_z_dims(hydroobjecten)\n",
    "\n",
    "    # Snap hydroobjecten\n",
    "    hydroobjecten = snap_unconnected_endpoints_to_endpoint_or_line(\n",
    "        hydroobjecten, snapping_distance=0.05\n",
    "    )\n",
    "\n",
    "    # Split_hydroobjecten\n",
    "    hydroobjecten = hydroobjecten.rename(columns={\"code\": \"CODE\"})\n",
    "    hydroobjecten = split_waterways_by_endpoints(hydroobjecten, hydroobjecten)\n",
    "\n",
    "    hydroobjecten.to_file(Path(case_path, \"1_tussenresultaat\", \"test.gpkg\"))\n",
    "\n",
    "    return hydroobjecten"
   ]
  },
  {
   "cell_type": "code",
   "execution_count": null,
   "metadata": {},
   "outputs": [],
   "source": [
    "hydroobjecten = preprocess_hydroobjecten(hydroobjecten)"
   ]
  }
 ],
 "metadata": {
  "kernelspec": {
   "display_name": "default",
   "language": "python",
   "name": "python3"
  },
  "language_info": {
   "codemirror_mode": {
    "name": "ipython",
    "version": 3
   },
   "file_extension": ".py",
   "mimetype": "text/x-python",
   "name": "python",
   "nbconvert_exporter": "python",
   "pygments_lexer": "ipython3",
   "version": "3.12.7"
  }
 },
 "nbformat": 4,
 "nbformat_minor": 2
}
