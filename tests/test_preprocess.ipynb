{
 "cells": [
  {
   "cell_type": "code",
   "execution_count": null,
   "metadata": {},
   "outputs": [],
   "source": [
    "import logging\n",
    "from pathlib import Path\n",
    "\n",
    "from dotenv import dotenv_values\n",
    "\n",
    "from generator_drainage_units.utils.general_functions import remove_z_dims"
   ]
  },
  {
   "cell_type": "code",
   "execution_count": null,
   "metadata": {},
   "outputs": [],
   "source": [
    "%load_ext autoreload\n",
    "%autoreload 2"
   ]
  },
  {
   "cell_type": "code",
   "execution_count": null,
   "metadata": {},
   "outputs": [],
   "source": [
    "logging.basicConfig(level=logging.DEBUG)\n",
    "\n",
    "config = dotenv_values(\"..\\\\.env\")\n",
    "base_dir = config[\"BASE_DIR\"]\n",
    "# case_name = \"vallei_en_veluwe\"\n",
    "# case_name = \"geerestein\"\n",
    "# case_name = \"hattemerbroek\"\n",
    "# case_name = \"pangelerbeek\"\n",
    "case_name = \"Leuvenumse_beek\""
   ]
  },
  {
   "cell_type": "code",
   "execution_count": null,
   "metadata": {},
   "outputs": [],
   "source": [
    "case_path = Path(base_dir, case_name)"
   ]
  },
  {
   "cell_type": "code",
   "execution_count": null,
   "metadata": {},
   "outputs": [],
   "source": [
    "import pandas as pd\n",
    "import geopandas as gpd\n",
    "\n",
    "hydroobjecten = gpd.read_file(Path(case_path, '0_basisdata', 'hydroobjecten.gpkg'))"
   ]
  },
  {
   "cell_type": "code",
   "execution_count": null,
   "metadata": {},
   "outputs": [],
   "source": [
    "hydroobjecten = hydroobjecten.rename(columns={'CODE': 'code'})"
   ]
  },
  {
   "cell_type": "code",
   "execution_count": null,
   "metadata": {},
   "outputs": [],
   "source": [
    "hydroobjecten = remove_z_dims(hydroobjecten)"
   ]
  },
  {
   "cell_type": "code",
   "execution_count": null,
   "metadata": {},
   "outputs": [],
   "source": [
    "import geopandas as gpd\n",
    "from shapely.geometry import LineString, Point\n",
    "from shapely.ops import nearest_points"
   ]
  },
  {
   "cell_type": "code",
   "execution_count": null,
   "metadata": {},
   "outputs": [],
   "source": [
    "def get_endpoints_from_lines(lines: gpd.GeoDataFrame) -> gpd.GeoDataFrame:\n",
    "    \"\"\"\n",
    "    Extract all unique endpoints of line features from vector data\n",
    "\n",
    "    Args:\n",
    "        lines (gpd.GeoDataFrame): GeoDataFrame containing line features\n",
    "\n",
    "    Returns:\n",
    "        gpd.GeoDataFrame: GeoDataFrame containing all unique endpoints from\n",
    "        line features\n",
    "    \"\"\"\n",
    "    lines[[\"startpoint\", \"endpoint\"]] = lines[\"geometry\"].apply(\n",
    "        lambda x: pd.Series([x.coords[0], x.coords[-1]])\n",
    "    )\n",
    "    endpoints = pd.unique(lines[[\"startpoint\", \"endpoint\"]].values.ravel(\"K\"))\n",
    "    endpoints = gpd.GeoDataFrame({\"coordinates\": endpoints})\n",
    "    endpoints[\"starting_lines\"] = endpoints[\"coordinates\"].apply(\n",
    "        lambda x: lines[\"code\"][lines[\"startpoint\"] == x].values\n",
    "    )\n",
    "    endpoints[\"ending_lines\"] = endpoints[\"coordinates\"].apply(\n",
    "        lambda x: lines[\"code\"][lines[\"endpoint\"] == x].values\n",
    "    )\n",
    "    endpoints[\"starting_line_count\"] = endpoints.apply(\n",
    "        lambda x: len(list(x[\"starting_lines\"])), axis=1\n",
    "    )\n",
    "    endpoints[\"ending_line_count\"] = endpoints.apply(\n",
    "        lambda x: len(list(x[\"ending_lines\"])), axis=1\n",
    "    )\n",
    "    endpoints[\"connected_line_count\"] = endpoints.apply(\n",
    "        lambda x: x[\"starting_line_count\"] + x[\"ending_line_count\"], axis=1\n",
    "    )\n",
    "    endpoints_geometry = endpoints.coordinates.apply(lambda x: Point(x))\n",
    "    endpoints = endpoints.set_geometry(endpoints_geometry)\n",
    "    return endpoints"
   ]
  },
  {
   "cell_type": "code",
   "execution_count": null,
   "metadata": {},
   "outputs": [],
   "source": [
    "endpoints = get_endpoints_from_lines(hydroobjecten)"
   ]
  },
  {
   "cell_type": "code",
   "execution_count": null,
   "metadata": {},
   "outputs": [],
   "source": [
    "endpoints['ID'] = endpoints.index\n",
    "endpoints = endpoints[(endpoints['starting_line_count'] == 0) | (endpoints['ending_line_count'] == 0)]\n",
    "endpoints = endpoints.rename(columns={'coordinates': 'geometry'})\n",
    "endpoints = gpd.GeoDataFrame(endpoints, geometry='geometry', crs=28992)\n",
    "buffer_distance = 0.05\n",
    "original_geometry = endpoints[['ID', 'geometry']].copy()\n",
    "endpoints['geometry'] = endpoints.buffer(buffer_distance)\n",
    "\n",
    "endpoints = endpoints.to_crs(28992)\n",
    "original_geometry = original_geometry.to_crs(28992)"
   ]
  },
  {
   "cell_type": "code",
   "execution_count": null,
   "metadata": {},
   "outputs": [],
   "source": [
    "# Perform a spatial join to find endpoints within the buffer\n",
    "joined_points = gpd.sjoin(original_geometry, endpoints, how=\"inner\", predicate=\"intersects\")\n",
    "\n",
    "# Filter out the endpoints with the same ID\n",
    "unconnected_endpoints_points = joined_points[joined_points['ID_left'] != joined_points['ID_right']]"
   ]
  },
  {
   "cell_type": "code",
   "execution_count": null,
   "metadata": {},
   "outputs": [],
   "source": [
    "unconnected_endpoints_points"
   ]
  },
  {
   "cell_type": "code",
   "execution_count": null,
   "metadata": {},
   "outputs": [],
   "source": [
    "merged_df = unconnected_endpoints_points.merge(unconnected_endpoints_points, left_on='ID_left', right_on='ID_right', suffixes=('_left', '_right'))"
   ]
  },
  {
   "cell_type": "code",
   "execution_count": null,
   "metadata": {},
   "outputs": [],
   "source": [
    "to_connect = merged_df[(merged_df['ending_lines_left'].apply(lambda x: len(x) > 0) & merged_df['starting_lines_right'].apply(lambda x: len(x) > 0))]"
   ]
  },
  {
   "cell_type": "code",
   "execution_count": null,
   "metadata": {},
   "outputs": [],
   "source": [
    "to_connect"
   ]
  },
  {
   "cell_type": "code",
   "execution_count": null,
   "metadata": {},
   "outputs": [],
   "source": [
    "joined_lines = gpd.sjoin(endpoints, hydroobjecten, how=\"left\", predicate=\"crosses\")\n",
    "joined_lines = joined_lines[\n",
    "    joined_lines.apply(lambda x: x['code'] not in x['starting_lines'] \n",
    "                    and x['code'] not in x['ending_lines'], axis=1)\n",
    "]"
   ]
  },
  {
   "cell_type": "code",
   "execution_count": null,
   "metadata": {},
   "outputs": [],
   "source": [
    "joined_lines"
   ]
  },
  {
   "cell_type": "code",
   "execution_count": null,
   "metadata": {},
   "outputs": [],
   "source": [
    "unconnected_endpoints"
   ]
  },
  {
   "cell_type": "code",
   "execution_count": null,
   "metadata": {},
   "outputs": [],
   "source": [
    "\n",
    "# Drop the temporary columns created by the spatial join\n",
    "unconnected_endpoints = unconnected_endpoints[['ID_left', 'geometry_left']].rename(columns={'ID_left': 'ID', 'geometry_left': 'geometry'})"
   ]
  },
  {
   "cell_type": "code",
   "execution_count": null,
   "metadata": {},
   "outputs": [],
   "source": [
    "snapped_lines = []\n",
    "for line in hydroobjecten.geometry:\n",
    "    snapped_line = snap_to_nearest_line(line, hydroobjecten, buffer_distance=0.05)\n",
    "    snapped_lines.append(snapped_line)\n"
   ]
  },
  {
   "cell_type": "code",
   "execution_count": null,
   "metadata": {},
   "outputs": [],
   "source": [
    "snapped_gdf = gpd.GeoDataFrame(geometry=snapped_lines, crs='EPSG:28992')"
   ]
  },
  {
   "cell_type": "code",
   "execution_count": null,
   "metadata": {},
   "outputs": [],
   "source": [
    "hydroobjecten.to_file(Path(case_path, '1_tussenresultaat', 'test.gpkg'))"
   ]
  }
 ],
 "metadata": {
  "kernelspec": {
   "display_name": "default",
   "language": "python",
   "name": "python3"
  },
  "language_info": {
   "codemirror_mode": {
    "name": "ipython",
    "version": 3
   },
   "file_extension": ".py",
   "mimetype": "text/x-python",
   "name": "python",
   "nbconvert_exporter": "python",
   "pygments_lexer": "ipython3",
   "version": "3.12.7"
  }
 },
 "nbformat": 4,
 "nbformat_minor": 2
}
