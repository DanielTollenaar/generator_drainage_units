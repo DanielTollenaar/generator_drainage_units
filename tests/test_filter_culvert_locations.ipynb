{
 "cells": [
  {
   "cell_type": "code",
   "execution_count": 1,
   "metadata": {},
   "outputs": [],
   "source": [
    "import logging\n",
    "from pathlib import Path\n",
    "\n",
    "from dotenv import dotenv_values\n",
    "\n",
    "from generator_drainage_units import run_generator_culvert_locations"
   ]
  },
  {
   "cell_type": "code",
   "execution_count": 2,
   "metadata": {},
   "outputs": [],
   "source": [
    "%load_ext autoreload\n",
    "%autoreload 2"
   ]
  },
  {
   "cell_type": "code",
   "execution_count": 42,
   "metadata": {},
   "outputs": [],
   "source": [
    "logging.basicConfig(level=logging.DEBUG)\n",
    "\n",
    "config = dotenv_values(\"..\\\\.env\")\n",
    "base_dir = config[\"BASE_DIR\"]\n",
    "# case_name = \"vallei_en_veluwe\"\n",
    "case_name = \"geerestein\"\n",
    "# case_name = \"hattemerbroek\"\n",
    "# case_name = \"pangelerbeek\"\n",
    "# case_name = \"Leuvenumse_beek\""
   ]
  },
  {
   "cell_type": "code",
   "execution_count": null,
   "metadata": {},
   "outputs": [],
   "source": [
    "case_path = Path(base_dir, case_name)\n",
    "\n",
    "cg_geer = run_generator_culvert_locations(\n",
    "    path=case_path,\n",
    "    distance_vertices=5,\n",
    "    max_culvert_length=40,\n",
    "    read_results=False,\n",
    "    write_results=True,\n",
    "    create_html_map=True,\n",
    ")"
   ]
  },
  {
   "cell_type": "code",
   "execution_count": null,
   "metadata": {},
   "outputs": [],
   "source": [
    "case_path = Path(base_dir, case_name)\n",
    "\n",
    "cg = run_generator_culvert_locations(\n",
    "    path=case_path,\n",
    "    distance_vertices=5,\n",
    "    max_culvert_length=40,\n",
    "    read_results=False,\n",
    "    write_results=True,\n",
    "    create_html_map=True,\n",
    ")"
   ]
  },
  {
   "cell_type": "code",
   "execution_count": 32,
   "metadata": {},
   "outputs": [],
   "source": [
    "from shapely.geometry import LineString, Point\n",
    "import geopandas as gpd"
   ]
  },
  {
   "cell_type": "code",
   "execution_count": 35,
   "metadata": {},
   "outputs": [],
   "source": [
    "docs_dir = 'C:\\\\Users\\\\NL1C2G\\\\Documents'\n",
    "culverts = gpd.read_file(Path(docs_dir, \"potential_culverts_4.gpkg\"))"
   ]
  },
  {
   "cell_type": "code",
   "execution_count": 38,
   "metadata": {},
   "outputs": [],
   "source": [
    "def generate_outflow_points_overige_watergangen_to_hydroobjecten(gdf):\n",
    "    culverts_hydro = gdf[\n",
    "        (gdf[\"WaterLineType\"] == \"hydroobjecten\")\n",
    "    ]\n",
    "\n",
    "    # Extract end points and retain 'unique_id' and 'dangling_code'\n",
    "    culverts_hydro[\"end_point\"] = culverts_hydro.geometry.apply(\n",
    "        lambda line: Point(line.coords[-1])\n",
    "        if isinstance(line, LineString)\n",
    "        else None\n",
    "    )\n",
    "\n",
    "    # Create GeoDataFrame with end points\n",
    "    end_points_gdf = gpd.GeoDataFrame(\n",
    "        culverts_hydro[[\"end_point\", \"unique_id\", \"dangling_code\"]].dropna(\n",
    "            subset=[\"end_point\"]\n",
    "        ),\n",
    "        geometry=\"end_point\",\n",
    "        crs=culverts_hydro.crs,\n",
    "    )\n",
    "\n",
    "    # Rename the geometry column to 'geometry'\n",
    "    end_points_gdf = end_points_gdf.rename(\n",
    "        columns={\"end_point\": \"geometry\"}\n",
    "    ).set_geometry(\"geometry\")\n",
    "\n",
    "    gdf = end_points_gdf.copy()\n",
    "\n",
    "    # Save to file\n",
    "    gdf.to_file(\n",
    "        Path(docs_dir, \"outflow_points_overig_to_hydro.gpkg\"),\n",
    "        layer=\"outflow_points_overig_to_hydro\",\n",
    "    )\n",
    "\n",
    "    return gdf"
   ]
  },
  {
   "cell_type": "code",
   "execution_count": null,
   "metadata": {},
   "outputs": [],
   "source": [
    "endpoints = generate_outflow_points_overige_watergangen_to_hydroobjecten(culverts)"
   ]
  }
 ],
 "metadata": {
  "kernelspec": {
   "display_name": "default",
   "language": "python",
   "name": "python3"
  },
  "language_info": {
   "codemirror_mode": {
    "name": "ipython",
    "version": 3
   },
   "file_extension": ".py",
   "mimetype": "text/x-python",
   "name": "python",
   "nbconvert_exporter": "python",
   "pygments_lexer": "ipython3",
   "version": "3.12.7"
  }
 },
 "nbformat": 4,
 "nbformat_minor": 2
}
