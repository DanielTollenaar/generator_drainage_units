{
 "cells": [
  {
   "cell_type": "code",
   "execution_count": null,
   "metadata": {},
   "outputs": [],
   "source": [
    "from pathlib import Path\n",
    "import logging\n",
    "from dotenv import dotenv_values\n",
    "import time\n",
    "import pandas as pd\n",
    "import geopandas as gpd\n",
    "import numpy as np\n",
    "from shapely.geometry import (\n",
    "    Point,\n",
    "    LineString,\n",
    "    MultiPoint,\n",
    "    GeometryCollection,\n",
    "    MultiLineString,\n",
    ")\n",
    "from shapely.ops import split, snap\n",
    "import shapely\n",
    "\n",
    "from generator_drainage_units import run_generator_culvert_locations"
   ]
  },
  {
   "cell_type": "code",
   "execution_count": null,
   "metadata": {},
   "outputs": [],
   "source": [
    "%load_ext autoreload\n",
    "%autoreload 2"
   ]
  },
  {
   "cell_type": "code",
   "execution_count": null,
   "metadata": {},
   "outputs": [],
   "source": [
    "logging.basicConfig(level=logging.DEBUG)\n",
    "\n",
    "config = dotenv_values(\"..\\\\.env\")\n",
    "base_dir = config[\"BASE_DIR\"]\n",
    "# case_name = \"vallei_en_veluwe\"\n",
    "# case_name = \"geerestein\"\n",
    "case_name = \"hattemerbroek\"\n",
    "# case_name = \"pangelerbeek\""
   ]
  },
  {
   "cell_type": "code",
   "execution_count": null,
   "metadata": {},
   "outputs": [],
   "source": [
    "case_path = Path(base_dir, case_name)\n",
    "\n",
    "cg = run_generator_culvert_locations(\n",
    "    path=case_path,\n",
    "    distance_vertices=5,\n",
    "    max_culvert_length=40,\n",
    "    read_results=False,\n",
    "    write_results=True,\n",
    ")"
   ]
  },
  {
   "cell_type": "code",
   "execution_count": null,
   "metadata": {},
   "outputs": [],
   "source": []
  }
 ],
 "metadata": {
  "kernelspec": {
   "display_name": "default",
   "language": "python",
   "name": "python3"
  },
  "language_info": {
   "codemirror_mode": {
    "name": "ipython",
    "version": 3
   },
   "file_extension": ".py",
   "mimetype": "text/x-python",
   "name": "python",
   "nbconvert_exporter": "python",
   "pygments_lexer": "ipython3",
   "version": "3.12.7"
  }
 },
 "nbformat": 4,
 "nbformat_minor": 2
}
