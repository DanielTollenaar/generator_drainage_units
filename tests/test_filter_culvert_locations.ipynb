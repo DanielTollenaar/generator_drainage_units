{
 "cells": [
  {
   "cell_type": "code",
   "execution_count": 26,
   "metadata": {},
   "outputs": [],
   "source": [
    "from pathlib import Path\n",
    "import logging\n",
    "from dotenv import dotenv_values\n",
    "import time\n",
    "\n",
    "from generator_drainage_units import run_generator_culvert_locations"
   ]
  },
  {
   "cell_type": "code",
   "execution_count": 27,
   "metadata": {},
   "outputs": [
    {
     "name": "stderr",
     "output_type": "stream",
     "text": [
      "<>:3: SyntaxWarning: invalid escape sequence '\\.'\n",
      "<>:3: SyntaxWarning: invalid escape sequence '\\.'\n",
      "C:\\Users\\NLHARN\\AppData\\Local\\Temp\\ipykernel_7796\\442380669.py:3: SyntaxWarning: invalid escape sequence '\\.'\n",
      "  config = dotenv_values(\"..\\.env\")\n"
     ]
    }
   ],
   "source": [
    "logging.basicConfig(level=logging.DEBUG)\n",
    "\n",
    "config = dotenv_values(\"..\\.env\")\n",
    "base_dir = config[\"BASE_DIR\"]\n",
    "# case_name = \"vallei_en_veluwe\"\n",
    "case_name = \"geerestein\"\n",
    "# case_name = \"hattemerbroek\"\n",
    "# case_name = \"pangelerbeek\""
   ]
  },
  {
   "cell_type": "code",
   "execution_count": null,
   "metadata": {},
   "outputs": [],
   "source": [
    "start_time = time.time()\n",
    "case_path = Path(base_dir, case_name)\n",
    "\n",
    "cg = run_generator_culvert_locations(\n",
    "    path=case_path,\n",
    "    distance_vertices=10,\n",
    "    max_culvert_length=40,\n",
    "    read_results=True,\n",
    "    write_results=True,\n",
    ")\n",
    "logging.info(f\"   x Case finished in {round(time.time()-start_time, 3)} seconds\")"
   ]
  },
  {
   "cell_type": "code",
   "execution_count": null,
   "metadata": {},
   "outputs": [],
   "source": [
    "cg.potential_culverts"
   ]
  },
  {
   "cell_type": "code",
   "execution_count": null,
   "metadata": {},
   "outputs": [],
   "source": []
  },
  {
   "cell_type": "code",
   "execution_count": null,
   "metadata": {},
   "outputs": [],
   "source": []
  }
 ],
 "metadata": {
  "kernelspec": {
   "display_name": "default",
   "language": "python",
   "name": "python3"
  },
  "language_info": {
   "codemirror_mode": {
    "name": "ipython",
    "version": 3
   },
   "file_extension": ".py",
   "mimetype": "text/x-python",
   "name": "python",
   "nbconvert_exporter": "python",
   "pygments_lexer": "ipython3",
   "version": "3.12.7"
  }
 },
 "nbformat": 4,
 "nbformat_minor": 2
}
