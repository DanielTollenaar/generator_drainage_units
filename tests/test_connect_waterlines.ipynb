{
 "cells": [
  {
   "cell_type": "code",
   "execution_count": 1,
   "metadata": {},
   "outputs": [],
   "source": [
    "import logging\n",
    "from pathlib import Path\n",
    "\n",
    "import geopandas as gpd\n",
    "import matplotlib.pyplot as plt\n",
    "import momepy\n",
    "import networkx as nx\n",
    "import numpy as np\n",
    "import pandas as pd\n",
    "import xarray as xr\n",
    "from dotenv import dotenv_values\n",
    "\n",
    "from generator_drainage_units import GeneratorCulvertLocations\n",
    "from generator_drainage_units.utils.create_graph import create_graph_from_edges\n",
    "\n",
    "logging.basicConfig(level=logging.DEBUG)"
   ]
  },
  {
   "cell_type": "code",
   "execution_count": 2,
   "metadata": {},
   "outputs": [],
   "source": [
    "%load_ext autoreload\n",
    "%autoreload 2"
   ]
  },
  {
   "cell_type": "code",
   "execution_count": 3,
   "metadata": {},
   "outputs": [],
   "source": [
    "config = dotenv_values(\"..\\\\.env\")\n",
    "\n",
    "base_dir = Path(config[\"BASE_DIR\"])\n",
    "dir_basis_data = \"0_basisdata\"\n",
    "dir_inter_results = \"1_tussenresultaat\"\n",
    "dir_results = \"2_resultaat\"\n",
    "\n",
    "# case_name = \"vallei_en_veluwe\"\n",
    "case_name = \"Leuvenumse_beek\"\n",
    "\n",
    "# base_dir = Path(config[\"BASE_DIR_AA_EN_MAAS\"])\n",
    "# dir_basis_data = \"0_basisdata\"\n",
    "# dir_inter_results = None\n",
    "# dir_results = \"1_resultaat\"\n",
    "\n",
    "# case_name = \"test\"\n",
    "# case_name = \"test_zero\"\n",
    "# case_name = \"test_check\"\n",
    "# case_name = \"aa_en_maas\"\n",
    "\n",
    "case_path = Path(base_dir, case_name)"
   ]
  },
  {
   "cell_type": "code",
   "execution_count": null,
   "metadata": {},
   "outputs": [],
   "source": [
    "cg = GeneratorCulvertLocations(\n",
    "    path=case_path,\n",
    "    read_results=True\n",
    ")"
   ]
  },
  {
   "cell_type": "code",
   "execution_count": 22,
   "metadata": {},
   "outputs": [],
   "source": [
    "nodes, edges, G = create_graph_from_edges(cg.overige_watergangen_processed, directed=False)"
   ]
  },
  {
   "cell_type": "code",
   "execution_count": 23,
   "metadata": {},
   "outputs": [],
   "source": [
    "outflow_nodes = cg.outflow_points_overig_to_hydro.sjoin(nodes, how=\"inner\").reset_index(drop=True)\n",
    "outflow_nodes[\"coords\"] = outflow_nodes[\"geometry\"].apply(lambda x: x.coords[0])"
   ]
  },
  {
   "cell_type": "code",
   "execution_count": null,
   "metadata": {},
   "outputs": [],
   "source": [
    "len_outflow_node, matrix = nx.multi_source_dijkstra(\n",
    "    G, \n",
    "    [int(n) for n in outflow_nodes.nodeID.values], \n",
    "    weight=\"geom_length\"\n",
    ")\n",
    "node_to_outflow_node = pd.DataFrame({\n",
    "    \"nodeID\": matrix.keys(),\n",
    "    \"outflow_node\": [v[0] for v in matrix.values()],\n",
    "    \"len_outflow_node\": len_outflow_node.values()\n",
    "})"
   ]
  },
  {
   "cell_type": "code",
   "execution_count": 44,
   "metadata": {},
   "outputs": [],
   "source": [
    "nodes_connections = nodes.merge(\n",
    "    node_to_outflow_node,\n",
    "    how=\"outer\",\n",
    "    left_on=\"nodeID\",\n",
    "    right_on=\"nodeID\"\n",
    ")\n",
    "nodes_connections[\"outflow_node\"] = nodes_connections[\"outflow_node\"].fillna(-999).astype(int)"
   ]
  },
  {
   "cell_type": "code",
   "execution_count": null,
   "metadata": {},
   "outputs": [],
   "source": [
    "nodes_connections.to_file(Path(cg.path, cg.dir_inter_results, \"nodes_connections.gpkg\"))"
   ]
  },
  {
   "cell_type": "code",
   "execution_count": null,
   "metadata": {},
   "outputs": [],
   "source": []
  },
  {
   "cell_type": "code",
   "execution_count": null,
   "metadata": {},
   "outputs": [],
   "source": []
  },
  {
   "cell_type": "code",
   "execution_count": null,
   "metadata": {},
   "outputs": [],
   "source": []
  }
 ],
 "metadata": {
  "kernelspec": {
   "display_name": "default",
   "language": "python",
   "name": "python3"
  },
  "language_info": {
   "codemirror_mode": {
    "name": "ipython",
    "version": 3
   },
   "file_extension": ".py",
   "mimetype": "text/x-python",
   "name": "python",
   "nbconvert_exporter": "python",
   "pygments_lexer": "ipython3",
   "version": "3.12.8"
  }
 },
 "nbformat": 4,
 "nbformat_minor": 2
}
