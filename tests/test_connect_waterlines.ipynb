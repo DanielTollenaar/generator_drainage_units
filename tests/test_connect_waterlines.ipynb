{
 "cells": [
  {
   "cell_type": "code",
   "execution_count": 6,
   "metadata": {},
   "outputs": [],
   "source": [
    "import logging\n",
    "from pathlib import Path\n",
    "\n",
    "import geopandas as gpd\n",
    "import matplotlib.pyplot as plt\n",
    "import momepy\n",
    "import networkx as nx\n",
    "import numpy as np\n",
    "import pandas as pd\n",
    "import xarray as xr\n",
    "from dotenv import dotenv_values\n",
    "\n",
    "from generator_drainage_units import GeneratorCulvertLocations\n",
    "from generator_drainage_units.utils.create_graph import create_graph_from_edges\n",
    "\n",
    "logging.basicConfig(level=logging.DEBUG)"
   ]
  },
  {
   "cell_type": "code",
   "execution_count": null,
   "metadata": {},
   "outputs": [],
   "source": [
    "%load_ext autoreload\n",
    "%autoreload 2"
   ]
  },
  {
   "cell_type": "code",
   "execution_count": 8,
   "metadata": {},
   "outputs": [],
   "source": [
    "config = dotenv_values(\"..\\\\.env\")\n",
    "\n",
    "base_dir = Path(config[\"BASE_DIR\"])\n",
    "dir_basis_data = \"0_basisdata\"\n",
    "dir_inter_results = \"1_tussenresultaat\"\n",
    "dir_results = \"2_resultaat\"\n",
    "\n",
    "case_name = \"Leuvenumse_beek\"\n",
    "\n",
    "case_path = Path(base_dir, case_name)"
   ]
  },
  {
   "cell_type": "code",
   "execution_count": null,
   "metadata": {},
   "outputs": [],
   "source": [
    "cg = GeneratorCulvertLocations(\n",
    "    path=case_path,\n",
    "    dir_basis_data=dir_basis_data,\n",
    "    dir_inter_results=dir_inter_results,\n",
    "    dir_results=dir_results,\n",
    "    read_results=True,\n",
    ")"
   ]
  },
  {
   "cell_type": "code",
   "execution_count": null,
   "metadata": {},
   "outputs": [],
   "source": [
    "cg.get_shortest_path_from_overige_watergangen_to_hydroobjects();"
   ]
  },
  {
   "cell_type": "code",
   "execution_count": null,
   "metadata": {},
   "outputs": [],
   "source": [
    "cg.generate_folium_map()"
   ]
  },
  {
   "cell_type": "code",
   "execution_count": null,
   "metadata": {},
   "outputs": [],
   "source": []
  },
  {
   "cell_type": "code",
   "execution_count": null,
   "metadata": {},
   "outputs": [],
   "source": []
  }
 ],
 "metadata": {
  "kernelspec": {
   "display_name": "default",
   "language": "python",
   "name": "python3"
  },
  "language_info": {
   "codemirror_mode": {
    "name": "ipython",
    "version": 3
   },
   "file_extension": ".py",
   "mimetype": "text/x-python",
   "name": "python",
   "nbconvert_exporter": "python",
   "pygments_lexer": "ipython3",
   "version": "3.12.8"
  }
 },
 "nbformat": 4,
 "nbformat_minor": 2
}
