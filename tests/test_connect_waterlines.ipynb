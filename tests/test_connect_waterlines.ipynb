{
 "cells": [
  {
   "cell_type": "code",
   "execution_count": 1,
   "metadata": {},
   "outputs": [],
   "source": [
    "import logging\n",
    "from pathlib import Path\n",
    "\n",
    "import geopandas as gpd\n",
    "import matplotlib.pyplot as plt\n",
    "import momepy\n",
    "import networkx as nx\n",
    "import numpy as np\n",
    "import pandas as pd\n",
    "import xarray as xr\n",
    "from dotenv import dotenv_values\n",
    "\n",
    "from generator_drainage_units import GeneratorCulvertLocations\n",
    "from generator_drainage_units.utils.create_graph import create_graph_from_edges\n",
    "\n",
    "logging.basicConfig(level=logging.DEBUG)"
   ]
  },
  {
   "cell_type": "code",
   "execution_count": 2,
   "metadata": {},
   "outputs": [],
   "source": [
    "%load_ext autoreload\n",
    "%autoreload 2"
   ]
  },
  {
   "cell_type": "code",
   "execution_count": 19,
   "metadata": {},
   "outputs": [],
   "source": [
    "config = dotenv_values(\"..\\\\.env\")\n",
    "\n",
    "base_dir = Path(config[\"BASE_DIR\"])\n",
    "dir_basis_data = \"0_basisdata\"\n",
    "dir_inter_results = \"1_tussenresultaat\"\n",
    "dir_results = \"2_resultaat\"\n",
    "\n",
    "# case_name = \"vallei_en_veluwe\"\n",
    "case_name = \"Leuvenumse_beek\"\n",
    "\n",
    "# base_dir = Path(config[\"BASE_DIR_AA_EN_MAAS\"])\n",
    "# dir_basis_data = \"0_basisdata\"\n",
    "# dir_inter_results = None\n",
    "# dir_results = \"1_resultaat\"\n",
    "\n",
    "# case_name = \"test\"\n",
    "# case_name = \"test_zero\"\n",
    "# case_name = \"test_check\"\n",
    "# case_name = \"aa_en_maas\"\n",
    "\n",
    "case_path = Path(base_dir, case_name)"
   ]
  },
  {
   "cell_type": "code",
   "execution_count": null,
   "metadata": {},
   "outputs": [],
   "source": [
    "cg = GeneratorCulvertLocations(path=case_path, read_results=True)"
   ]
  },
  {
   "cell_type": "code",
   "execution_count": null,
   "metadata": {},
   "outputs": [],
   "source": [
    "cg.get_shortest_path_from_overige_watergangen_to_hydroobjects();"
   ]
  },
  {
   "cell_type": "code",
   "execution_count": null,
   "metadata": {},
   "outputs": [],
   "source": []
  }
 ],
 "metadata": {
  "kernelspec": {
   "display_name": "default",
   "language": "python",
   "name": "python3"
  },
  "language_info": {
   "codemirror_mode": {
    "name": "ipython",
    "version": 3
   },
   "file_extension": ".py",
   "mimetype": "text/x-python",
   "name": "python",
   "nbconvert_exporter": "python",
   "pygments_lexer": "ipython3",
   "version": "3.12.8"
  }
 },
 "nbformat": 4,
 "nbformat_minor": 2
}
