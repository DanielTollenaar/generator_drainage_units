{
 "cells": [
  {
   "cell_type": "code",
   "execution_count": 1,
   "metadata": {},
   "outputs": [],
   "source": [
    "import logging\n",
    "from pathlib import Path\n",
    "\n",
    "import pandas as pd\n",
    "from dotenv import dotenv_values\n",
    "\n",
    "from generator_drainage_units import run_generator_network_lumping\n",
    "\n",
    "logging.basicConfig(level=logging.DEBUG)"
   ]
  },
  {
   "cell_type": "code",
   "execution_count": 2,
   "metadata": {},
   "outputs": [],
   "source": [
    "pd.set_option(\"future.no_silent_downcasting\", True)"
   ]
  },
  {
   "cell_type": "code",
   "execution_count": 3,
   "metadata": {},
   "outputs": [],
   "source": [
    "%load_ext autoreload\n",
    "%autoreload 2"
   ]
  },
  {
   "cell_type": "code",
   "execution_count": 4,
   "metadata": {},
   "outputs": [],
   "source": [
    "config = dotenv_values(\"..\\\\.env\")\n",
    "\n",
    "# base_dir = Path(config[\"BASE_DIR\"])\n",
    "# dir_basis_data = \"0_basisdata\"\n",
    "# dir_inter_results = \"1_tussenresultaat\"\n",
    "# dir_results = \"2_resultaat\"\n",
    "\n",
    "base_dir = Path(config[\"BASE_DIR_AA_EN_MAAS\"])\n",
    "dir_basis_data = \"0_basisdata\"\n",
    "dir_inter_results = None\n",
    "dir_results = \"1_resultaat\"\n",
    "\n",
    "# case_name = \"test\"\n",
    "# case_name = \"test_zero\"\n",
    "case_name = \"test_check\"\n",
    "# case_name = \"aa_en_maas\"\n",
    "# case_name = \"vallei_en_veluwe\"\n",
    "\n",
    "direction = \"upstream\"\n",
    "\n",
    "case_path = Path(base_dir, case_name)"
   ]
  },
  {
   "cell_type": "code",
   "execution_count": null,
   "metadata": {},
   "outputs": [],
   "source": [
    "network = run_generator_network_lumping(\n",
    "    path=case_path,\n",
    "    dir_basis_data=dir_basis_data,\n",
    "    dir_inter_results=None,\n",
    "    dir_results=dir_results,\n",
    "    direction=direction,\n",
    "    include_areas=True,\n",
    "    detect_split_points=True,\n",
    "    write_results=True,\n",
    "    water_lines=[\"hydroobjecten\"],\n",
    ")"
   ]
  },
  {
   "cell_type": "code",
   "execution_count": null,
   "metadata": {},
   "outputs": [],
   "source": [
    "network.generate_folium_map(\n",
    "    html_file_name=None,\n",
    "    include_areas=True,\n",
    "    width_edges=10.0,\n",
    "    opacity_edges=0.5,\n",
    ")\n",
    "network.folium_map"
   ]
  },
  {
   "cell_type": "code",
   "execution_count": null,
   "metadata": {},
   "outputs": [],
   "source": [
    "# # DIT ALLEEN DOEN TER TEST: HIER GAAT DIE PER GEVONDEN SPLITSING RANDOM EEN RICHTING KIEZEN\n",
    "# network = run_network_lumping_with_random_selection_splits(network=network)\n",
    "# network.folium_map"
   ]
  },
  {
   "cell_type": "code",
   "execution_count": null,
   "metadata": {},
   "outputs": [],
   "source": []
  },
  {
   "cell_type": "code",
   "execution_count": null,
   "metadata": {},
   "outputs": [],
   "source": []
  },
  {
   "cell_type": "code",
   "execution_count": null,
   "metadata": {},
   "outputs": [],
   "source": []
  }
 ],
 "metadata": {
  "kernelspec": {
   "display_name": "default",
   "language": "python",
   "name": "python3"
  },
  "language_info": {
   "codemirror_mode": {
    "name": "ipython",
    "version": 3
   },
   "file_extension": ".py",
   "mimetype": "text/x-python",
   "name": "python",
   "nbconvert_exporter": "python",
   "pygments_lexer": "ipython3",
   "version": "3.12.7"
  }
 },
 "nbformat": 4,
 "nbformat_minor": 2
}
