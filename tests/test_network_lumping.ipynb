{
 "cells": [
  {
   "cell_type": "code",
   "execution_count": null,
   "metadata": {},
   "outputs": [],
   "source": [
    "from pathlib import Path\n",
    "import logging\n",
    "from dotenv import dotenv_values\n",
    "import pandas as pd\n",
    "import geopandas as gpd\n",
    "import numpy as np\n",
    "import ast"
   ]
  },
  {
   "cell_type": "code",
   "execution_count": null,
   "metadata": {},
   "outputs": [],
   "source": [
    "from generator_drainage_units import run_generator_network_lumping, \\\n",
    "    run_network_lumping_with_random_selection_splits\n",
    "logging.basicConfig(level=logging.DEBUG)"
   ]
  },
  {
   "cell_type": "code",
   "execution_count": null,
   "metadata": {},
   "outputs": [],
   "source": [
    "pd.set_option('future.no_silent_downcasting', True)"
   ]
  },
  {
   "cell_type": "code",
   "execution_count": null,
   "metadata": {},
   "outputs": [],
   "source": [
    "%load_ext autoreload\n",
    "%autoreload 2"
   ]
  },
  {
   "cell_type": "code",
   "execution_count": null,
   "metadata": {},
   "outputs": [],
   "source": [
    "config = dotenv_values(\"..\\\\.env\")\n",
    "base_dir = Path(config[\"BASE_DIR_AA_EN_MAAS\"])\n",
    "# base_dir = Path(config[\"BASE_DIR\"])\n",
    "\n",
    "# case_name = \"test\"\n",
    "# case_name = \"test_zero\"\n",
    "case_name = \"test_check\"\n",
    "# case_name = \"aa_en_maas\"\n",
    "# case_name = \"vallei_en_veluwe\"\n",
    "\n",
    "direction = \"upstream\"\n",
    "\n",
    "case_path = Path(base_dir, case_name)"
   ]
  },
  {
   "cell_type": "code",
   "execution_count": null,
   "metadata": {},
   "outputs": [],
   "source": [
    "network = run_generator_network_lumping(\n",
    "    path=case_path, \n",
    "    direction=direction,\n",
    "    include_areas=False,\n",
    "    write_results=True,\n",
    "    water_lines=[\"hydroobjecten\"]\n",
    ")"
   ]
  },
  {
   "cell_type": "code",
   "execution_count": null,
   "metadata": {},
   "outputs": [],
   "source": [
    "network.export_results_to_html_file(\n",
    "    html_file_name=None,\n",
    "    include_areas=False,\n",
    "    width_edges=10.0,\n",
    "    opacity_edges=0.5,\n",
    ")\n",
    "network.folium_map"
   ]
  },
  {
   "cell_type": "code",
   "execution_count": null,
   "metadata": {},
   "outputs": [],
   "source": [
    "# DIT ALLEEN DOEN TER TEST: HIER GAAT DIE PER GEVONDEN SPLITSING RANDOM EEN RICHTING KIEZEN\n",
    "network = run_network_lumping_with_random_selection_splits(\n",
    "    network=network\n",
    ")\n",
    "network.folium_map"
   ]
  },
  {
   "cell_type": "code",
   "execution_count": null,
   "metadata": {},
   "outputs": [],
   "source": [
    "network.inflow_outflow_splits"
   ]
  },
  {
   "cell_type": "code",
   "execution_count": null,
   "metadata": {},
   "outputs": [],
   "source": []
  },
  {
   "cell_type": "code",
   "execution_count": null,
   "metadata": {},
   "outputs": [],
   "source": []
  },
  {
   "cell_type": "code",
   "execution_count": null,
   "metadata": {},
   "outputs": [],
   "source": []
  },
  {
   "cell_type": "code",
   "execution_count": null,
   "metadata": {},
   "outputs": [],
   "source": []
  }
 ],
 "metadata": {
  "kernelspec": {
   "display_name": "default",
   "language": "python",
   "name": "python3"
  },
  "language_info": {
   "codemirror_mode": {
    "name": "ipython",
    "version": 3
   },
   "file_extension": ".py",
   "mimetype": "text/x-python",
   "name": "python",
   "nbconvert_exporter": "python",
   "pygments_lexer": "ipython3",
   "version": "3.12.7"
  }
 },
 "nbformat": 4,
 "nbformat_minor": 2
}
