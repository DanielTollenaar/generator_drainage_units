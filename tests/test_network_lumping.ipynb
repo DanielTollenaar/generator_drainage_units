{
 "cells": [
  {
   "cell_type": "code",
   "execution_count": 11,
   "metadata": {},
   "outputs": [],
   "source": [
    "import logging\n",
    "from pathlib import Path\n",
    "\n",
    "import pandas as pd\n",
    "from dotenv import dotenv_values\n",
    "\n",
    "from generator_drainage_units import (\n",
    "    GeneratorNetworkLumping,\n",
    "    run_generator_network_lumping,\n",
    "    run_network_lumping_with_random_selection_splits,\n",
    ")\n",
    "from generator_drainage_units.utils.general_functions import (\n",
    "    define_list_upstream_downstream_edges_ids,\n",
    ")\n",
    "\n",
    "logging.basicConfig(level=logging.DEBUG)"
   ]
  },
  {
   "cell_type": "code",
   "execution_count": 10,
   "metadata": {},
   "outputs": [],
   "source": [
    "pd.set_option(\"future.no_silent_downcasting\", True)"
   ]
  },
  {
   "cell_type": "code",
   "execution_count": 12,
   "metadata": {},
   "outputs": [],
   "source": [
    "%load_ext autoreload\n",
    "%autoreload 2"
   ]
  },
  {
   "cell_type": "code",
   "execution_count": 16,
   "metadata": {},
   "outputs": [],
   "source": [
    "config = dotenv_values(\"..\\\\.env\")\n",
    "base_dir = Path(config[\"BASE_DIR_AA_EN_MAAS\"])\n",
    "# base_dir = Path(config[\"BASE_DIR\"])\n",
    "\n",
    "# case_name = \"test\"\n",
    "# case_name = \"test_zero\"\n",
    "case_name = \"test_check\"\n",
    "# case_name = \"aa_en_maas\"\n",
    "# case_name = \"vallei_en_veluwe\"\n",
    "\n",
    "direction = \"upstream\"\n",
    "\n",
    "case_path = Path(base_dir, case_name)"
   ]
  },
  {
   "cell_type": "code",
   "execution_count": 27,
   "metadata": {},
   "outputs": [],
   "source": [
    "network = run_generator_network_lumping(\n",
    "    path=case_path,\n",
    "    direction=direction,\n",
    "    include_areas=True,\n",
    "    detect_split_points=True,\n",
    "    write_results=True,\n",
    "    water_lines=[\"hydroobjecten\"],\n",
    ")"
   ]
  },
  {
   "cell_type": "code",
   "execution_count": 25,
   "metadata": {},
   "outputs": [],
   "source": [
    "network.generate_folium_map(\n",
    "    html_file_name=None,\n",
    "    include_areas=True,\n",
    "    width_edges=10.0,\n",
    "    opacity_edges=0.5,\n",
    ")\n",
    "network.folium_map"
   ]
  },
  {
   "cell_type": "code",
   "execution_count": null,
   "metadata": {},
   "outputs": [],
   "source": [
    "# # DIT ALLEEN DOEN TER TEST: HIER GAAT DIE PER GEVONDEN SPLITSING RANDOM EEN RICHTING KIEZEN\n",
    "# network = run_network_lumping_with_random_selection_splits(network=network)\n",
    "# network.folium_map"
   ]
  },
  {
   "cell_type": "code",
   "execution_count": null,
   "metadata": {},
   "outputs": [],
   "source": []
  },
  {
   "cell_type": "code",
   "execution_count": null,
   "metadata": {},
   "outputs": [],
   "source": []
  },
  {
   "cell_type": "code",
   "execution_count": null,
   "metadata": {},
   "outputs": [],
   "source": []
  }
 ],
 "metadata": {
  "kernelspec": {
   "display_name": "default",
   "language": "python",
   "name": "python3"
  },
  "language_info": {
   "codemirror_mode": {
    "name": "ipython",
    "version": 3
   },
   "file_extension": ".py",
   "mimetype": "text/x-python",
   "name": "python",
   "nbconvert_exporter": "python",
   "pygments_lexer": "ipython3",
   "version": "3.12.7"
  }
 },
 "nbformat": 4,
 "nbformat_minor": 2
}
