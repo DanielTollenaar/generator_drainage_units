{
 "cells": [
  {
   "cell_type": "code",
   "execution_count": null,
   "metadata": {},
   "outputs": [],
   "source": [
    "%load_ext autoreload\n",
    "%autoreload 2\n",
    "\n",
    "import logging\n",
    "from pathlib import Path\n",
    "\n",
    "import geopandas as gpd\n",
    "import pandas as pd\n",
    "from dotenv import dotenv_values\n",
    "from shapely.geometry import LineString, Point, Polygon\n",
    "\n",
    "from generator_drainage_units import run_generator_order_levels\n",
    "\n",
    "logging.basicConfig(level=logging.DEBUG)"
   ]
  },
  {
   "cell_type": "code",
   "execution_count": null,
   "metadata": {},
   "outputs": [],
   "source": [
    "# Define case and base_dir\n",
    "\n",
    "config = dotenv_values(\"..\\\\.env\")\n",
    "base_dir = config[\"BASE_DIR\"]\n",
    "waterschap = \"Waterschap Vallei & Veluwe\"\n",
    "# case_name = \"vallei_en_veluwe\"\n",
    "# case_name = \"geerestein\"\n",
    "# case_name = \"hattemerbroek\"\n",
    "# case_name = \"pangelerbeek\"\n",
    "case_name = \"Leuvenumse_beek\"\n",
    "\n",
    "# Define waterboard specific variables\n",
    "range_orde_code_min = 721\n",
    "range_orde_code_max = 760"
   ]
  },
  {
   "cell_type": "code",
   "execution_count": null,
   "metadata": {},
   "outputs": [],
   "source": [
    "case_path = Path(base_dir, case_name)\n",
    "order = run_generator_order_levels(\n",
    "    path=case_path,\n",
    "    waterschap=waterschap,\n",
    "    range_orde_code_min=range_orde_code_min,\n",
    "    range_orde_code_max=range_orde_code_max,\n",
    "    create_html_map=False,\n",
    "    water_lines=[\"hydroobjecten\"],\n",
    "    write_results=True,\n",
    ")"
   ]
  },
  {
   "cell_type": "code",
   "execution_count": null,
   "metadata": {},
   "outputs": [],
   "source": [
    "order.generate_folium_map(base_map=\"Light Mode\")\n",
    "order.folium_map"
   ]
  },
  {
   "cell_type": "code",
   "execution_count": null,
   "metadata": {},
   "outputs": [],
   "source": [
    "# for col in [\"upstream_edges\", \"downstream_edges\"]:\n",
    "#     order.nodes[col] = order.nodes.apply(lambda x: [a for a in x[col].split(',')  if a!=\"\"], axis=1)\n",
    "# for col in [\"upstream_angles\", \"downstream_angles\"]:\n",
    "#     order.nodes[col] = order.nodes.apply(lambda x: [float(a) for a in x[col].split(',')], axis=1)"
   ]
  },
  {
   "cell_type": "code",
   "execution_count": null,
   "metadata": {},
   "outputs": [],
   "source": [
    "# sel_one_down_one_up = order.nodes[(order.nodes.no_downstream_edges==1) & (order.nodes.no_upstream_edges==1)].index.to_numpy()\n",
    "# sel_one_down_two_up = order.nodes[(order.nodes.no_downstream_edges==1) & (order.nodes.no_upstream_edges==2)].index.to_numpy()\n",
    "# sel_two_down_one_up = order.nodes[(order.nodes.no_downstream_edges==2) & (order.nodes.no_upstream_edges==1)].index.to_numpy()\n",
    "# sel_two_down_two_up = order.nodes[(order.nodes.no_downstream_edges==2) & (order.nodes.no_upstream_edges==2)].index.to_numpy()"
   ]
  },
  {
   "cell_type": "code",
   "execution_count": null,
   "metadata": {},
   "outputs": [],
   "source": [
    "# from generator_drainage_units.utils.general_functions import find_edge_smallest_angle_difference, angle_difference\n",
    "\n",
    "# order.nodes['upstream_edge'] = None\n",
    "# order.nodes['downstream_edge'] = None\n",
    "# order.nodes['angle_difference'] = None\n",
    "\n",
    "# order.nodes.loc[sel_one_down_one_up, 'downstream_edge'] = order.nodes.loc[sel_one_down_one_up].apply(\n",
    "#     lambda x: x['downstream_edges'][0], axis=1\n",
    "# )\n",
    "# order.nodes.loc[sel_one_down_one_up, 'upstream_edge'] = order.nodes.loc[sel_one_down_one_up].apply(\n",
    "#     lambda x: x['upstream_edges'][0], axis=1\n",
    "# )\n",
    "# order.nodes.loc[sel_one_down_one_up, 'angle_difference'] = order.nodes.loc[sel_one_down_one_up].apply(\n",
    "#     lambda x: angle_difference(x['downstream_angles'][0], x['upstream_angles'][0]), axis=1\n",
    "# )\n",
    "\n",
    "# order.nodes.loc[sel_one_down_two_up, 'downstream_edge'] = order.nodes.loc[sel_one_down_two_up].apply(\n",
    "#     lambda x: x['downstream_edges'][0], axis=1\n",
    "# )\n",
    "# order.nodes.loc[sel_one_down_two_up, 'upstream_edge'] = order.nodes.loc[sel_one_down_two_up].apply(\n",
    "#     lambda x: find_edge_smallest_angle_difference(x['downstream_angles'][0], x['upstream_angles'], x['upstream_edges'])[1],\n",
    "#     axis=1\n",
    "# )\n",
    "# order.nodes.loc[sel_one_down_two_up, 'angle_difference'] = order.nodes.loc[sel_one_down_two_up].apply(\n",
    "#     lambda x: [angle_difference(a, x['downstream_angles'][0]) for a in x['upstream_angles']],\n",
    "#     axis=1\n",
    "# )"
   ]
  },
  {
   "cell_type": "code",
   "execution_count": null,
   "metadata": {},
   "outputs": [],
   "source": [
    "# order.nodes.loc[sel_two_down_one_up, 'upstream_edge'] = order.nodes.loc[sel_two_down_one_up].apply(lambda x: x['upstream_edges'][0], axis=1)\n",
    "# order.nodes.loc[sel_two_down_one_up, 'downstream_edge'] = order.nodes.loc[sel_two_down_one_up].apply(\n",
    "#     lambda x: find_edge_smallest_angle_difference(x['upstream_angles'][0], x['downstream_angles'], x['downstream_edges'])[1], axis=1\n",
    "# )\n",
    "\n",
    "# order.nodes.loc[sel_two_down_one_up, 'angle_difference'] = order.nodes.loc[sel_two_down_one_up].apply(\n",
    "#     lambda x: [angle_difference(a, x['upstream_angles'][0]) for a in x['downstream_angles']],\n",
    "#     axis=1\n",
    "# )\n",
    "\n",
    "# order.nodes.loc[sel_two_down_two_up, 'upstream_edge'] = order.nodes.loc[sel_one_down_two_up].apply(\n",
    "#     lambda x: [find_edge_smallest_angle_difference(a, x['upstream_angles'], x['upstream_edges'])[1] for a in x['downstream_angles']], axis=1\n",
    "# )\n",
    "# order.nodes.loc[sel_two_down_two_up, 'downstream_edge'] = order.nodes.loc[sel_two_down_one_up].apply(\n",
    "#     lambda x: [find_edge_smallest_angle_difference(a, x['downstream_angles'], x['downstream_edges']) for a in x['upstream_angles']], axis=1\n",
    "# )\n",
    "# order.nodes.loc[sel_two_down_two_up, 'angle_difference'] = order.nodes.loc[sel_two_down_two_up].apply(\n",
    "#     lambda x: [[angle_difference(d, u) for u in x['upstream_angles']] for d in x['downstream_angles']], axis=1\n",
    "# )"
   ]
  },
  {
   "cell_type": "code",
   "execution_count": null,
   "metadata": {},
   "outputs": [],
   "source": [
    "# order.nodes.loc[sel_two_down_two_up, 'upstream_edge'] = order.nodes.loc[sel_one_down_two_up].apply(\n",
    "#     lambda x: [find_edge_smallest_angle_difference(a, x['upstream_angles'], x['upstream_edges'])[1] for a in x['downstream_angles']], axis=1\n",
    "# )\n",
    "# order.nodes.loc[sel_two_down_two_up, 'downstream_edge'] = order.nodes.loc[sel_two_down_one_up].apply(\n",
    "#     lambda x: [find_edge_smallest_angle_difference(a, x['downstream_angles'], x['downstream_edges']) for a in x['upstream_angles']], axis=1\n",
    "# )\n",
    "# order.nodes.loc[sel_two_down_two_up]"
   ]
  },
  {
   "cell_type": "code",
   "execution_count": null,
   "metadata": {},
   "outputs": [],
   "source": []
  }
 ],
 "metadata": {
  "kernelspec": {
   "display_name": "default",
   "language": "python",
   "name": "python3"
  },
  "language_info": {
   "codemirror_mode": {
    "name": "ipython",
    "version": 3
   },
   "file_extension": ".py",
   "mimetype": "text/x-python",
   "name": "python",
   "nbconvert_exporter": "python",
   "pygments_lexer": "ipython3",
   "version": "3.12.7"
  }
 },
 "nbformat": 4,
 "nbformat_minor": 2
}
