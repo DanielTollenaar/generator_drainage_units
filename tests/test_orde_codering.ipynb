{
 "cells": [
  {
   "cell_type": "code",
   "execution_count": 1,
   "metadata": {},
   "outputs": [],
   "source": [
    "%load_ext autoreload\n",
    "%autoreload 2\n",
    "\n",
    "import logging\n",
    "from pathlib import Path\n",
    "from warnings import simplefilter\n",
    "\n",
    "import pandas as pd\n",
    "from dotenv import dotenv_values\n",
    "\n",
    "from generator_drainage_units import run_generator_order_levels\n",
    "from generator_drainage_units.utils.network_functions import (\n",
    "    find_nodes_edges_for_direction,\n",
    ")\n",
    "\n",
    "simplefilter(action=\"ignore\", category=pd.errors.PerformanceWarning)\n",
    "logging.basicConfig(level=logging.DEBUG)"
   ]
  },
  {
   "cell_type": "code",
   "execution_count": 2,
   "metadata": {},
   "outputs": [],
   "source": [
    "# Define case and base_dir\n",
    "\n",
    "config = dotenv_values(\"..\\\\.env\")\n",
    "base_dir = config[\"BASE_DIR\"]\n",
    "waterschap = \"Waterschap Vallei & Veluwe\"\n",
    "# case_name = \"vallei_en_veluwe\"\n",
    "# case_name = \"geerestein\"\n",
    "# case_name = \"hattemerbroek\"\n",
    "# case_name = \"pangelerbeek\"\n",
    "case_name = \"Leuvenumse_beek\"\n",
    "\n",
    "# Define waterboard specific variables\n",
    "range_orde_code_min = 721\n",
    "range_orde_code_max = 760"
   ]
  },
  {
   "cell_type": "code",
   "execution_count": null,
   "metadata": {},
   "outputs": [],
   "source": [
    "%%time\n",
    "case_path = Path(base_dir, case_name)\n",
    "order = run_generator_order_levels(\n",
    "    path=case_path,\n",
    "    waterschap=waterschap,\n",
    "    range_orde_code_min=range_orde_code_min,\n",
    "    range_orde_code_max=range_orde_code_max,\n",
    "    water_lines=[\"hydroobjecten\"],\n",
    "    read_results=True,\n",
    "    write_results=True,\n",
    "    create_html_map=False,\n",
    "    open_html=False\n",
    ")"
   ]
  },
  {
   "cell_type": "code",
   "execution_count": null,
   "metadata": {},
   "outputs": [],
   "source": [
    "order.outflow_nodes_all"
   ]
  },
  {
   "cell_type": "code",
   "execution_count": null,
   "metadata": {},
   "outputs": [],
   "source": [
    "logging.info(f\"   x generate orde levels for all hydroobjects\")\n",
    "order.outflow_nodes_all = order.outflow_nodes_all[order.outflow_nodes_all[\"orde_nr\"]==2].copy()\n",
    "\n",
    "new_outflow_nodes_all = order.outflow_nodes_all[order.outflow_nodes_all[\"orde_nr\"]==2].copy()\n",
    "edges_left = order.edges.copy()\n",
    "nodes_left = order.nodes[order.nodes.nodeID.isin(edges_left.node_end) | order.nodes.nodeID.isin(edges_left.node_start)].copy()\n",
    "order_nr = 2\n",
    "order_labels = False if case_name == \"vallei_en_veluwe\" else True\n",
    "\n",
    "while not new_outflow_nodes_all.empty and order_nr<10:\n",
    "    logging.debug(f\"    - order {order_nr}: {len(new_outflow_nodes_all)} outflow nodes\")\n",
    "    outflow_nodes = new_outflow_nodes_all.copy()\n",
    "    new_outflow_nodes_all = None\n",
    "    edges_order_all = None\n",
    "    for i_node, outflow_node in outflow_nodes.iterrows():\n",
    "        print(f\" * {i_node+1}/{len(outflow_nodes)}\", end=\"\\r\")\n",
    "        nodes_order, edges_order, new_outflow_nodes = find_nodes_edges_for_direction(\n",
    "            nodes=nodes_left,\n",
    "            edges=edges_left,\n",
    "            node_ids=[outflow_node[\"nodeID\"]],\n",
    "            border_node_ids=None,\n",
    "            direction=\"upstream\",\n",
    "            split_points=nodes_left,\n",
    "            order_first=True\n",
    "        )\n",
    "        if edges_order_all is None:\n",
    "            edges_order_all = edges_order[edges_order[f\"upstream_node_{outflow_node[\"nodeID\"]}\"]].copy()\n",
    "        else:\n",
    "            edges_order_all = pd.concat([edges_order_all, edges_order[edges_order[f\"upstream_node_{outflow_node[\"nodeID\"]}\"]]])\n",
    "        \n",
    "        new_outflow_nodes = order.nodes[order.nodes[\"nodeID\"].isin(new_outflow_nodes)][[\"nodeID\", \"geometry\"]]\n",
    "        new_outflow_nodes[\"orde_nr\"] = order_nr\n",
    "        new_outflow_nodes[\"rws_code\"] = outflow_node[\"rws_code\"]\n",
    "        new_outflow_nodes[\"rws_code_no\"] = outflow_node[\"rws_code_no\"]\n",
    "        new_outflow_nodes[\"orde_code\"] = outflow_node[\"orde_code\"]\n",
    "        new_outflow_nodes[\"orde_nr\"] = order_nr + 1\n",
    "        if new_outflow_nodes_all is None:\n",
    "            new_outflow_nodes_all = new_outflow_nodes.copy()\n",
    "        else:\n",
    "            new_outflow_nodes_all = pd.concat([new_outflow_nodes_all, new_outflow_nodes])\n",
    "\n",
    "    edges_order = edges_order_all[edges_order_all[[f\"upstream_node_{n}\" for n in outflow_nodes[\"nodeID\"]]].sum(axis=1)>0]\n",
    "    edges_left = edges_left[~edges_left.code.isin(edges_order.code)].copy()\n",
    "    nodes_left = nodes_left[nodes_left.nodeID.isin(edges_left.node_start)].copy()\n",
    "    \n",
    "    order.edges.loc[order.edges.code.isin(edges_order.code), \"orde_nr\"] = order_nr\n",
    "    order.outflow_nodes_all = pd.concat([order.outflow_nodes_all, new_outflow_nodes_all])\n",
    "\n",
    "    order_nr = order_nr + 1\n",
    "\n",
    "order.generate_folium_map(base_map=\"Light Mode\", order_labels=order_labels)\n",
    "order.folium_map"
   ]
  },
  {
   "cell_type": "code",
   "execution_count": null,
   "metadata": {},
   "outputs": [],
   "source": [
    "order.nodes.to_file(Path(order.dir_inter_results, \"nodes.gpkg\"))\n",
    "order.edges.to_file(Path(order.dir_inter_results, \"edges.gpkg\"))"
   ]
  },
  {
   "cell_type": "code",
   "execution_count": null,
   "metadata": {},
   "outputs": [],
   "source": [
    "order.generate_folium_map(base_map=\"Light Mode\");"
   ]
  },
  {
   "cell_type": "code",
   "execution_count": null,
   "metadata": {},
   "outputs": [],
   "source": [
    "for orde_nr in range(10):\n",
    "    display(order.outflow_nodes_all[order.outflow_nodes_all[\"orde_nr\"]==orde_nr])"
   ]
  },
  {
   "cell_type": "code",
   "execution_count": null,
   "metadata": {},
   "outputs": [],
   "source": []
  }
 ],
 "metadata": {
  "kernelspec": {
   "display_name": "default",
   "language": "python",
   "name": "python3"
  },
  "language_info": {
   "codemirror_mode": {
    "name": "ipython",
    "version": 3
   },
   "file_extension": ".py",
   "mimetype": "text/x-python",
   "name": "python",
   "nbconvert_exporter": "python",
   "pygments_lexer": "ipython3",
   "version": "3.12.7"
  }
 },
 "nbformat": 4,
 "nbformat_minor": 2
}
