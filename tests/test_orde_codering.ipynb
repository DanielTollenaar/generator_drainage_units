{
 "cells": [
  {
   "cell_type": "code",
   "execution_count": null,
   "metadata": {},
   "outputs": [],
   "source": [
    "%load_ext autoreload\n",
    "%autoreload 2\n",
    "\n",
    "import logging\n",
    "from pathlib import Path\n",
    "\n",
    "from dotenv import dotenv_values\n",
    "\n",
    "from generator_drainage_units import run_generator_order_levels\n",
    "import pandas as pd\n",
    "import geopandas as gpd\n",
    "from shapely.geometry import Point, Polygon, LineString\n",
    "logging.basicConfig(level=logging.INFO)"
   ]
  },
  {
   "cell_type": "code",
   "execution_count": null,
   "metadata": {},
   "outputs": [],
   "source": [
    "# Define case and base_dir\n",
    "\n",
    "config = dotenv_values(\"..\\\\.env\")\n",
    "base_dir = config[\"BASE_DIR\"]\n",
    "waterschap = \"Waterschap Vallei & Veluwe\"\n",
    "# case_name = \"vallei_en_veluwe\"\n",
    "# case_name = \"geerestein\"\n",
    "# case_name = \"hattemerbroek\"\n",
    "# case_name = \"pangelerbeek\"\n",
    "case_name = \"Leuvenumse_beek\"\n",
    "\n",
    "# Define waterboard specific variables\n",
    "range_orde_code_min = 721\n",
    "range_orde_code_max = 760"
   ]
  },
  {
   "cell_type": "code",
   "execution_count": null,
   "metadata": {},
   "outputs": [],
   "source": [
    "case_path = Path(base_dir, case_name)\n",
    "order = run_generator_order_levels(\n",
    "    path=case_path,\n",
    "    waterschap=waterschap,\n",
    "    range_orde_code_min=range_orde_code_min,\n",
    "    range_orde_code_max=range_orde_code_max,\n",
    "    create_html_map=True,\n",
    ")"
   ]
  },
  {
   "cell_type": "code",
   "execution_count": null,
   "metadata": {},
   "outputs": [],
   "source": [
    "hydroobjects = gpd.read_file(Path(case_path, '1_tussenresultaat', 'hydroobjecten_processed.gpkg'))"
   ]
  },
  {
   "cell_type": "code",
   "execution_count": null,
   "metadata": {},
   "outputs": [],
   "source": [
    "hydroobjects = hydroobjects.rename(columns={\"CODE\": \"code\"})"
   ]
  },
  {
   "cell_type": "code",
   "execution_count": null,
   "metadata": {},
   "outputs": [],
   "source": [
    "from generator_drainage_units.utils.create_graph import create_graph_from_edges\n",
    "from generator_drainage_units.utils.general_functions import define_list_upstream_downstream_edges_ids, calculate_angles_of_edges_at_nodes\n",
    "\n",
    "nodes, edges, G = create_graph_from_edges(hydroobjects)\n",
    "nodes = define_list_upstream_downstream_edges_ids(node_ids=nodes.nodeID.values, nodes=nodes, edges=edges)\n",
    "nodes = calculate_angles_of_edges_at_nodes(nodes, edges)\n",
    "nodes"
   ]
  },
  {
   "cell_type": "code",
   "execution_count": null,
   "metadata": {},
   "outputs": [],
   "source": [
    "#hydroobjects = order.hydroobjecten[[\"CODE\", 'NAAM', 'geometry']].copy()\n",
    "hydroobjects['orde_nr'] = 0\n",
    "\n",
    "outflow_nodes = order.outflow_nodes_all.copy()\n",
    "outflow_nodes = outflow_nodes.rename(columns={'hydroobject_code':'hydroobject_code_in'})\n",
    "outflow_nodes['hydroobject_code_out'] = None\n",
    "outflow_nodes[\"orde_nr\"] = 1\n",
    "\n",
    "for orde_nr in range(1,6):\n",
    "    print(orde_nr)\n",
    "    outflow_nodes_copy = outflow_nodes[outflow_nodes['orde_nr'] == orde_nr].copy()\n",
    "    outflow_nodes_copy['geometry'] = outflow_nodes_copy.buffer(0.0001).to_crs(28992)\n",
    "    end_point_hydroobjects = hydroobjects.copy()\n",
    "    end_point_hydroobjects['geometry'] = end_point_hydroobjects['geometry'].apply(lambda geom: Point(geom.coords[-1]))\n",
    "    end_point_hydroobjects = end_point_hydroobjects.set_crs(28992)\n",
    "    current_hydroobjects = gpd.sjoin(\n",
    "        outflow_nodes_copy,\n",
    "        end_point_hydroobjects[['CODE', 'geometry']],\n",
    "        how=\"left\",\n",
    "        predicate=\"intersects\",\n",
    "    )\n",
    "    current_codes = list(current_hydroobjects['CODE'].values)\n",
    "    \n",
    "    while current_codes:\n",
    "        start_points = hydroobjects[hydroobjects['CODE'].isin(current_codes)]['geometry'].apply(lambda x: x.coords[0]).tolist()\n",
    "        # Find hydroobjects in gdf_hydroobjects whose endpoints match the start points of the current hydroobjects\n",
    "        next_hydroobjects = hydroobjects[hydroobjects['geometry'].apply(lambda x: x.coords[-1] in start_points)].copy()\n",
    "        # Add a column 'next_hydro' to store the hydroobject it ends at\n",
    "        next_hydroobjects['next_hydro'] = next_hydroobjects['geometry'].apply(\n",
    "            lambda x: [code for code, geo in zip(hydroobjects['CODE'], hydroobjects['geometry']) if geo.coords[0] == x.coords[-1]]\n",
    "        )\n",
    "        hydroobjects.loc[hydroobjects['CODE'].isin(current_codes), 'orde_nr'] = orde_nr + 1\n",
    "        next_codes = next_hydroobjects['CODE'].tolist()\n",
    "\n",
    "        # Identify duplicated 'next_hydro' values\n",
    "        multiple_next_hydroobjects = next_hydroobjects[next_hydroobjects.duplicated('next_hydro', keep=False)]\n",
    "        single_next_hydroobjects = next_hydroobjects[~next_hydroobjects.duplicated('next_hydro', keep=False)]\n",
    "        display(multiple_next_hydroobjects)\n",
    "\n",
    "        # Create a new outflow_nodes based on multiple_next_hydro\n",
    "        for next_hydro in multiple_next_hydroobjects['next_hydro'].explode().unique():\n",
    "            # Get hydroobjects with the same next_hydro\n",
    "            hydroobjects_with_same_next_hydro = multiple_next_hydroobjects[multiple_next_hydroobjects['next_hydro'].explode() == next_hydro]\n",
    "            \n",
    "            # Aggregate the hydroobject codes\n",
    "            # hydroobjects_codes = ','.join(hydroobjects_with_same_next_hydro['CODE'].astype(str))\n",
    "            hydroobjects_codes = list(hydroobjects_with_same_next_hydro['CODE'].astype(str).values)\n",
    "            \n",
    "            # Create a new outflow_node\n",
    "            new_outflow_node = {\n",
    "                'geometry': Point(hydroobjects_with_same_next_hydro.iloc[0]['geometry'].coords[-1]),\n",
    "                'hydroobject_code_out': next_hydro,\n",
    "                'hydroobject_code_in': hydroobjects_codes,\n",
    "                'orde_nr': int(orde_nr + 1)\n",
    "            }\n",
    "            new_outflow_node = gpd.GeoDataFrame(\n",
    "                pd.DataFrame([new_outflow_node]), \n",
    "                geometry='geometry', \n",
    "                crs=outflow_nodes.crs\n",
    "            )\n",
    "            # Append the new outflow_node to outflow_nodes\n",
    "            outflow_nodes = pd.concat([outflow_nodes, new_outflow_node], ignore_index=True)\n",
    "\n",
    "        current_codes = single_next_hydroobjects['CODE'].tolist()\n",
    "        break"
   ]
  },
  {
   "cell_type": "code",
   "execution_count": null,
   "metadata": {},
   "outputs": [],
   "source": [
    "next_hydroobjects"
   ]
  },
  {
   "cell_type": "code",
   "execution_count": null,
   "metadata": {},
   "outputs": [],
   "source": [
    "duplicated_hydro"
   ]
  },
  {
   "cell_type": "code",
   "execution_count": null,
   "metadata": {},
   "outputs": [],
   "source": [
    "hydroobjects.to_file(Path(case_path, '1_tussenresultaat', 'test.gpkg'))"
   ]
  },
  {
   "cell_type": "code",
   "execution_count": null,
   "metadata": {},
   "outputs": [],
   "source": [
    "outflow_nodes"
   ]
  },
  {
   "cell_type": "code",
   "execution_count": null,
   "metadata": {},
   "outputs": [],
   "source": []
  },
  {
   "cell_type": "code",
   "execution_count": null,
   "metadata": {},
   "outputs": [],
   "source": [
    "outflow_nodes"
   ]
  },
  {
   "cell_type": "code",
   "execution_count": null,
   "metadata": {},
   "outputs": [],
   "source": [
    "hydroobjects[hydroobjects['orde_nr'] == 2]"
   ]
  },
  {
   "cell_type": "code",
   "execution_count": null,
   "metadata": {},
   "outputs": [],
   "source": [
    "current_codes"
   ]
  },
  {
   "cell_type": "code",
   "execution_count": null,
   "metadata": {},
   "outputs": [],
   "source": [
    "outflow_nodes.rename(columns={'hydroobject_code':'hydroobject_code_in'})"
   ]
  },
  {
   "cell_type": "code",
   "execution_count": null,
   "metadata": {},
   "outputs": [],
   "source": [
    "outflow_nodes[\"orde_nr\"] = 1"
   ]
  },
  {
   "cell_type": "code",
   "execution_count": null,
   "metadata": {},
   "outputs": [],
   "source": []
  },
  {
   "cell_type": "code",
   "execution_count": null,
   "metadata": {},
   "outputs": [],
   "source": [
    "order.hydroobjecten[\"UITSTROOM_ANGLE\"]"
   ]
  },
  {
   "cell_type": "code",
   "execution_count": null,
   "metadata": {},
   "outputs": [],
   "source": [
    "order.outflow_nodes_all"
   ]
  },
  {
   "cell_type": "code",
   "execution_count": null,
   "metadata": {},
   "outputs": [],
   "source": [
    "order.generate_folium_map()"
   ]
  },
  {
   "cell_type": "code",
   "execution_count": null,
   "metadata": {},
   "outputs": [],
   "source": [
    "order.outflow_nodes_all.to_file(Path(order.path, \"inflow_outflow_points.gpkg\"))"
   ]
  },
  {
   "cell_type": "code",
   "execution_count": null,
   "metadata": {},
   "outputs": [],
   "source": []
  }
 ],
 "metadata": {
  "kernelspec": {
   "display_name": "default",
   "language": "python",
   "name": "python3"
  },
  "language_info": {
   "codemirror_mode": {
    "name": "ipython",
    "version": 3
   },
   "file_extension": ".py",
   "mimetype": "text/x-python",
   "name": "python",
   "nbconvert_exporter": "python",
   "pygments_lexer": "ipython3",
   "version": "3.12.7"
  }
 },
 "nbformat": 4,
 "nbformat_minor": 2
}
