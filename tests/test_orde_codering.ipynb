{
 "cells": [
  {
   "cell_type": "code",
   "execution_count": null,
   "metadata": {},
   "outputs": [],
   "source": [
    "%load_ext autoreload\n",
    "%autoreload 2\n",
    "\n",
    "import logging\n",
    "from pathlib import Path\n",
    "\n",
    "import geopandas as gpd\n",
    "import pandas as pd\n",
    "from dotenv import dotenv_values\n",
    "from shapely.geometry import LineString, Point, Polygon\n",
    "\n",
    "from generator_drainage_units import run_generator_order_levels\n",
    "\n",
    "logging.basicConfig(level=logging.DEBUG)"
   ]
  },
  {
   "cell_type": "code",
   "execution_count": null,
   "metadata": {},
   "outputs": [],
   "source": [
    "# Define case and base_dir\n",
    "\n",
    "config = dotenv_values(\"..\\\\.env\")\n",
    "base_dir = config[\"BASE_DIR\"]\n",
    "waterschap = \"Waterschap Vallei & Veluwe\"\n",
    "# case_name = \"vallei_en_veluwe\"\n",
    "# case_name = \"geerestein\"\n",
    "# case_name = \"hattemerbroek\"\n",
    "# case_name = \"pangelerbeek\"\n",
    "case_name = \"Leuvenumse_beek\"\n",
    "\n",
    "# Define waterboard specific variables\n",
    "range_orde_code_min = 721\n",
    "range_orde_code_max = 760"
   ]
  },
  {
   "cell_type": "code",
   "execution_count": null,
   "metadata": {},
   "outputs": [],
   "source": [
    "case_path = Path(base_dir, case_name)\n",
    "order = run_generator_order_levels(\n",
    "    path=case_path,\n",
    "    waterschap=waterschap,\n",
    "    range_orde_code_min=range_orde_code_min,\n",
    "    range_orde_code_max=range_orde_code_max,\n",
    "    create_html_map=True,\n",
    "    water_lines=[\"hydroobjecten\"],\n",
    ")"
   ]
  },
  {
   "cell_type": "code",
   "execution_count": null,
   "metadata": {},
   "outputs": [],
   "source": [
    "for col in [\"upstream_edges\", \"downstream_edges\"]:\n",
    "    order.nodes[col] = order.nodes.apply(lambda x: [None if a==\"\" else a for a in x[col].split(',')], axis=1)\n",
    "for col in [\"upstream_angles\", \"downstream_angles\"]:\n",
    "    order.nodes[col] = order.nodes.apply(lambda x: [None if a==\"\" else float(a) for a in x[col].split(',')], axis=1)"
   ]
  },
  {
   "cell_type": "code",
   "execution_count": null,
   "metadata": {},
   "outputs": [],
   "source": [
    "sel_one_down_one_up = order.nodes[(order.nodes.no_downstream_edges==1) & (order.nodes.no_upstream_edges==1)].index.values\n",
    "sel_one_down_two_up = order.nodes[(order.nodes.no_downstream_edges==1) & (order.nodes.no_upstream_edges==2)].index.values\n",
    "sel_two_down_one_up = order.nodes[(order.nodes.no_downstream_edges==2) & (order.nodes.no_upstream_edges==1)].index.values\n",
    "sel_two_down_two_up = order.nodes[(order.nodes.no_downstream_edges==2) & (order.nodes.no_upstream_edges==2)].index.values"
   ]
  },
  {
   "cell_type": "code",
   "execution_count": null,
   "metadata": {},
   "outputs": [],
   "source": [
    "from generator_drainage_units.utils.general_functions import find_edge_smallest_angle_difference, angle_difference\n",
    "\n",
    "order.nodes['upstream_edge'] = None\n",
    "order.nodes['downstream_edge'] = None\n",
    "order.nodes['angle_difference'] = None\n",
    "\n",
    "order.nodes.loc[sel_one_down_one_up, 'downstream_edge'] = order.nodes.loc[sel_one_down_one_up].apply(lambda x: x['downstream_edges'][0], axis=1)\n",
    "order.nodes.loc[sel_one_down_one_up, 'upstream_edge'] = order.nodes.loc[sel_one_down_one_up].apply(lambda x: x['upstream_edges'][0], axis=1)\n",
    "\n",
    "order.nodes.loc[sel_one_down_one_up, 'angle_difference'] = order.nodes.loc[sel_one_down_one_up].apply(lambda x: angle_difference(x['downstream_angles'][0], x['upstream_angles'][0]), axis=1)\n",
    "\n",
    "order.nodes.loc[sel_one_down_two_up, 'downstream_edge'] = order.nodes.loc[sel_one_down_two_up].apply(lambda x: x['downstream_edges'][0], axis=1)\n",
    "order.nodes.loc[sel_one_down_two_up, 'upstream_edge'] = order.nodes.loc[sel_one_down_two_up].apply(\n",
    "    lambda x: find_edge_smallest_angle_difference(x['downstream_angles'][0], x['upstream_angles'], x['upstream_edges'])[1], axis=1\n",
    ")\n",
    "\n",
    "order.nodes.loc[sel_one_down_two_up, 'angle_difference'] = order.nodes.loc[sel_one_down_two_up].apply(\n",
    "    lambda x: [angle_difference(a, x['downstream_angles'][0]) for a in x['upstream_angles']],\n",
    "    axis=1\n",
    ")\n",
    "\n",
    "order.nodes.loc[sel_two_down_one_up, 'upstream_edge'] = order.nodes.loc[sel_two_down_one_up].apply(lambda x: x['upstream_edges'][0], axis=1)\n",
    "order.nodes.loc[sel_two_down_one_up, 'downstream_edge'] = order.nodes.loc[sel_two_down_one_up].apply(\n",
    "    lambda x: find_edge_smallest_angle_difference(x['upstream_angles'][0], x['downstream_angles'], x['downstream_edges'])[1], axis=1\n",
    ")\n",
    "\n",
    "order.nodes.loc[sel_two_down_one_up, 'angle_difference'] = order.nodes.loc[sel_two_down_one_up].apply(\n",
    "    lambda x: [angle_difference(a, x['upstream_angles'][0]) for a in x['downstream_angles']],\n",
    "    axis=1\n",
    ")\n",
    "\n",
    "order.nodes.loc[sel_two_down_two_up, 'upstream_edge'] = order.nodes.loc[sel_one_down_two_up].apply(\n",
    "    lambda x: [find_edge_smallest_angle_difference(a, x['upstream_angles'], x['upstream_edges'])[1] for a in x['downstream_angles']], axis=1\n",
    ")\n",
    "order.nodes.loc[sel_two_down_two_up, 'downstream_edge'] = order.nodes.loc[sel_two_down_one_up].apply(\n",
    "    lambda x: [find_edge_smallest_angle_difference(a, x['downstream_angles'], x['downstream_edges']) for a in x['upstream_angles']], axis=1\n",
    ")\n",
    "\n",
    "order.nodes.loc[sel_two_down_two_up, 'angle_difference'] = order.nodes.loc[sel_two_down_two_up].apply(\n",
    "    lambda x: [[angle_difference(d, u) for u in x['upstream_angles']] for d in x['downstream_angles']],\n",
    "    axis=1\n",
    ")\n"
   ]
  },
  {
   "cell_type": "code",
   "execution_count": null,
   "metadata": {},
   "outputs": [],
   "source": [
    "order.nodes.loc[sel_two_down_two_up, 'upstream_edge'] = order.nodes.loc[sel_one_down_two_up].apply(\n",
    "    lambda x: [find_edge_smallest_angle_difference(a, x['upstream_angles'], x['upstream_edges'])[1] for a in x['downstream_angles']], axis=1\n",
    ")\n",
    "order.nodes.loc[sel_two_down_two_up, 'downstream_edge'] = order.nodes.loc[sel_two_down_one_up].apply(\n",
    "    lambda x: [find_edge_smallest_angle_difference(a, x['downstream_angles'], x['downstream_edges']) for a in x['upstream_angles']], axis=1\n",
    ")\n",
    "order.nodes.loc[sel_two_down_two_up]"
   ]
  },
  {
   "cell_type": "code",
   "execution_count": 392,
   "metadata": {},
   "outputs": [
    {
     "data": {
      "text/html": [
       "<div>\n",
       "<style scoped>\n",
       "    .dataframe tbody tr th:only-of-type {\n",
       "        vertical-align: middle;\n",
       "    }\n",
       "\n",
       "    .dataframe tbody tr th {\n",
       "        vertical-align: top;\n",
       "    }\n",
       "\n",
       "    .dataframe thead th {\n",
       "        text-align: right;\n",
       "    }\n",
       "</style>\n",
       "<table border=\"1\" class=\"dataframe\">\n",
       "  <thead>\n",
       "    <tr style=\"text-align: right;\">\n",
       "      <th></th>\n",
       "      <th>x</th>\n",
       "      <th>y</th>\n",
       "      <th>nodeID</th>\n",
       "      <th>geometry</th>\n",
       "      <th>upstream_edges</th>\n",
       "      <th>no_upstream_edges</th>\n",
       "      <th>downstream_edges</th>\n",
       "      <th>no_downstream_edges</th>\n",
       "      <th>upstream_angles</th>\n",
       "      <th>downstream_angles</th>\n",
       "      <th>upstream_edge</th>\n",
       "      <th>downstream_edge</th>\n",
       "      <th>angle_difference</th>\n",
       "    </tr>\n",
       "  </thead>\n",
       "  <tbody>\n",
       "    <tr>\n",
       "      <th>226</th>\n",
       "      <td>179362.575</td>\n",
       "      <td>475981.518</td>\n",
       "      <td>226</td>\n",
       "      <td>POINT (179362.575 475981.518)</td>\n",
       "      <td>[WL_5052-1, WL_1708-19]</td>\n",
       "      <td>2</td>\n",
       "      <td>[WL_1707-0, WL_222-0]</td>\n",
       "      <td>2</td>\n",
       "      <td>[102.95, 99.53]</td>\n",
       "      <td>[47.6, 97.91]</td>\n",
       "      <td>NaN</td>\n",
       "      <td>NaN</td>\n",
       "      <td>[[55.35, 51.93], [5.040000000000006, 1.6200000...</td>\n",
       "    </tr>\n",
       "  </tbody>\n",
       "</table>\n",
       "</div>"
      ],
      "text/plain": [
       "              x           y  nodeID                       geometry  \\\n",
       "226  179362.575  475981.518     226  POINT (179362.575 475981.518)   \n",
       "\n",
       "              upstream_edges  no_upstream_edges       downstream_edges  \\\n",
       "226  [WL_5052-1, WL_1708-19]                  2  [WL_1707-0, WL_222-0]   \n",
       "\n",
       "     no_downstream_edges  upstream_angles downstream_angles upstream_edge  \\\n",
       "226                    2  [102.95, 99.53]     [47.6, 97.91]           NaN   \n",
       "\n",
       "    downstream_edge                                   angle_difference  \n",
       "226             NaN  [[55.35, 51.93], [5.040000000000006, 1.6200000...  "
      ]
     },
     "execution_count": 392,
     "metadata": {},
     "output_type": "execute_result"
    }
   ],
   "source": [
    "order.nodes.loc[sel_two_down_two_up]"
   ]
  },
  {
   "cell_type": "code",
   "execution_count": null,
   "metadata": {},
   "outputs": [],
   "source": [
    "sel_two_down_two_up"
   ]
  },
  {
   "cell_type": "code",
   "execution_count": null,
   "metadata": {},
   "outputs": [],
   "source": [
    "sel_two_down_one_up"
   ]
  },
  {
   "cell_type": "code",
   "execution_count": null,
   "metadata": {},
   "outputs": [],
   "source": [
    "sel_one_down_one_up"
   ]
  },
  {
   "cell_type": "code",
   "execution_count": null,
   "metadata": {},
   "outputs": [],
   "source": [
    "edges, outflow_nodes = order.generate_order_levels_to_outflow_nodes_edges()"
   ]
  },
  {
   "cell_type": "code",
   "execution_count": null,
   "metadata": {},
   "outputs": [],
   "source": [
    "edges"
   ]
  },
  {
   "cell_type": "code",
   "execution_count": null,
   "metadata": {},
   "outputs": [],
   "source": [
    "edges.to_file(Path(case_path, '1_tussenresultaat', 'test.gpkg'))"
   ]
  },
  {
   "cell_type": "code",
   "execution_count": null,
   "metadata": {},
   "outputs": [],
   "source": [
    "order.nodes['downstream_edge']"
   ]
  },
  {
   "cell_type": "code",
   "execution_count": null,
   "metadata": {},
   "outputs": [],
   "source": []
  }
 ],
 "metadata": {
  "kernelspec": {
   "display_name": "default",
   "language": "python",
   "name": "python3"
  },
  "language_info": {
   "codemirror_mode": {
    "name": "ipython",
    "version": 3
   },
   "file_extension": ".py",
   "mimetype": "text/x-python",
   "name": "python",
   "nbconvert_exporter": "python",
   "pygments_lexer": "ipython3",
   "version": "3.12.7"
  }
 },
 "nbformat": 4,
 "nbformat_minor": 2
}
