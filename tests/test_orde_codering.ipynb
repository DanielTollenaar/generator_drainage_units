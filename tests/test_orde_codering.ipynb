{
 "cells": [
  {
   "cell_type": "code",
   "execution_count": null,
   "metadata": {},
   "outputs": [],
   "source": [
    "%load_ext autoreload\n",
    "%autoreload 2\n",
    "\n",
    "from pathlib import Path\n",
    "from shapely.geometry import Point\n",
    "import pandas as pd\n",
    "from dotenv import dotenv_values\n",
    "import logging\n",
    "import folium\n",
    "\n",
    "from generator_drainage_units.generator_order_levels import GeneratorOrderLevels\n",
    "\n",
    "logging.basicConfig(level=logging.INFO)"
   ]
  },
  {
   "cell_type": "code",
   "execution_count": null,
   "metadata": {},
   "outputs": [],
   "source": [
    "# Define case and base_dir\n",
    "\n",
    "config = dotenv_values(\"..\\\\.env\")\n",
    "base_dir = config[\"BASE_DIR\"]\n",
    "waterschap = \"Waterschap Vallei & Veluwe\"\n",
    "case_name = \"vallei_en_veluwe\"\n",
    "# case_name = \"geerestein\"\n",
    "# case_name = \"hattemerbroek\"\n",
    "# case_name = \"pangelerbeek\"\n",
    "# case_name = \"Leuvenumse_beek\"\n",
    "\n",
    "# Define waterboard specific variables\n",
    "range_orde_code_min = 721\n",
    "range_orde_code_max = 760"
   ]
  },
  {
   "cell_type": "code",
   "execution_count": null,
   "metadata": {},
   "outputs": [],
   "source": [
    "# Load class and accompanying data as object 'case_data' for selected case\n",
    "\n",
    "\n",
    "def run_generator_order_levels(\n",
    "    path: Path,\n",
    "    waterschap: str,\n",
    "    range_orde_code_min: int,\n",
    "    range_orde_code_max: int,\n",
    "    read_results: bool = True,\n",
    "    write_results: bool = True,\n",
    "    create_html_map: bool = False,\n",
    ") -> GeneratorOrderLevels:\n",
    "    order = GeneratorOrderLevels(\n",
    "        waterschap=waterschap,\n",
    "        range_orde_code_min=range_orde_code_min,\n",
    "        range_orde_code_max=range_orde_code_max,\n",
    "        read_results=read_results,\n",
    "        write_results=write_results,\n",
    "    )\n",
    "    order.read_data_from_case(path=path)\n",
    "\n",
    "    order.find_end_points_hydroobjects()\n",
    "    order.generate_rws_code_for_all_outflow_points()\n",
    "\n",
    "    if create_html_map:\n",
    "        order.generate_folium_map()\n",
    "    return order"
   ]
  },
  {
   "cell_type": "code",
   "execution_count": null,
   "metadata": {},
   "outputs": [],
   "source": [
    "case_path = Path(base_dir, case_name)\n",
    "order = run_generator_order_levels(\n",
    "    path=case_path,\n",
    "    waterschap=waterschap,\n",
    "    range_orde_code_min=range_orde_code_min,\n",
    "    range_orde_code_max=range_orde_code_max,\n",
    "    create_html_map=True,\n",
    ")\n",
    "order.folium_map"
   ]
  },
  {
   "cell_type": "code",
   "execution_count": null,
   "metadata": {},
   "outputs": [],
   "source": [
    "order.outflow_nodes_all.to_file(Path(order.path, \"inflow_outflow_points.gpkg\"))"
   ]
  },
  {
   "cell_type": "code",
   "execution_count": null,
   "metadata": {},
   "outputs": [],
   "source": []
  }
 ],
 "metadata": {
  "kernelspec": {
   "display_name": "default",
   "language": "python",
   "name": "python3"
  },
  "language_info": {
   "codemirror_mode": {
    "name": "ipython",
    "version": 3
   },
   "file_extension": ".py",
   "mimetype": "text/x-python",
   "name": "python",
   "nbconvert_exporter": "python",
   "pygments_lexer": "ipython3",
   "version": "3.12.7"
  }
 },
 "nbformat": 4,
 "nbformat_minor": 2
}
