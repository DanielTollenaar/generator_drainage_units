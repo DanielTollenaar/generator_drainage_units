{
 "cells": [
  {
   "cell_type": "code",
   "execution_count": null,
   "metadata": {},
   "outputs": [],
   "source": [
    "from pathlib import Path\n",
    "import logging\n",
    "from dotenv import dotenv_values\n",
    "import folium\n",
    "\n",
    "from generator_drainage_units.generator_order_levels import GeneratorOrderLevels"
   ]
  },
  {
   "cell_type": "code",
   "execution_count": null,
   "metadata": {},
   "outputs": [],
   "source": [
    "%load_ext autoreload\n",
    "%autoreload 2"
   ]
  },
  {
   "cell_type": "code",
   "execution_count": null,
   "metadata": {},
   "outputs": [],
   "source": [
    "logging.basicConfig(level=logging.INFO)\n",
    "\n",
    "config = dotenv_values(\"..\\\\.env\")\n",
    "base_dir = config[\"BASE_DIR\"]\n",
    "# case_name = \"vallei_en_veluwe\"\n",
    "# case_name = \"geerestein\"\n",
    "# case_name = \"hattemerbroek\"\n",
    "# case_name = \"pangelerbeek\"\n",
    "case_name = \"Leuvenumse_beek\""
   ]
  },
  {
   "cell_type": "code",
   "execution_count": null,
   "metadata": {},
   "outputs": [],
   "source": [
    "def run_generator_order_levels(\n",
    "    path: Path,\n",
    "    read_results: bool = True,\n",
    "    write_results: bool = True\n",
    ") -> GeneratorOrderLevels:\n",
    "    \n",
    "    order_generator = GeneratorOrderLevels(\n",
    "        read_results=read_results, write_results=write_results\n",
    "    )\n",
    "    order_generator.read_data_from_case(path=path)\n",
    "    \n",
    "    return order_generator"
   ]
  },
  {
   "cell_type": "code",
   "execution_count": null,
   "metadata": {},
   "outputs": [],
   "source": [
    "case_path = Path(base_dir, case_name)\n",
    "\n",
    "order = run_generator_order_levels(path=case_path)"
   ]
  },
  {
   "cell_type": "code",
   "execution_count": null,
   "metadata": {},
   "outputs": [],
   "source": [
    "def get_len_gdf(order):\n",
    "    return len(order.hydroobjecten)\n",
    "\n",
    "get_len_gdf(order)"
   ]
  },
  {
   "cell_type": "code",
   "execution_count": null,
   "metadata": {},
   "outputs": [],
   "source": [
    "from shapely.geometry import Point\n",
    "buffer_width = 0.5\n",
    "\n",
    "lines = order.hydroobjecten[[\"CODE\", \"geometry\"]].copy()\n",
    "lines[\"start_node\"] = lines.geometry.apply(lambda x: Point(x.coords[0][0:2]))\n",
    "lines[\"end_node\"] = lines.geometry.apply(lambda x: Point(x.coords[-1][0:2]))"
   ]
  },
  {
   "cell_type": "code",
   "execution_count": null,
   "metadata": {},
   "outputs": [],
   "source": [
    "start_nodes = lines[[\"start_node\"]].rename(columns={\"start_node\": \"geometry\"})\n",
    "start_nodes['geometry'] = start_nodes.buffer(buffer_width)\n",
    "end_nodes = lines[[\"end_node\"]].rename(columns={\"end_node\": \"geometry\"})\n",
    "end_nodes['geometry'] = end_nodes.buffer(buffer_width)"
   ]
  },
  {
   "cell_type": "code",
   "execution_count": null,
   "metadata": {},
   "outputs": [],
   "source": [
    "outflow_points = start_nodes.sjoin(end_nodes, how=\"right\")\n",
    "outflow_points = lines.loc[outflow_points[outflow_points.index_left.isna()].index, [\"end_node\"]]\n",
    "outflow_points = outflow_points.rename(columns={\"end_node\": \"geometry\"})\n",
    "\n",
    "outflow_points_4326 = outflow_points.to_crs(4326)\n",
    "\n",
    "m = folium.Map(\n",
    "    location=[\n",
    "        outflow_points_4326.geometry.y.mean(), \n",
    "        outflow_points_4326.geometry.x.mean()\n",
    "    ], \n",
    "    zoom_start=13\n",
    ")\n",
    "\n",
    "folium.GeoJson(\n",
    "    order.hydroobjecten.geometry,#.buffer(10),\n",
    "    name=\"Watergangen\",\n",
    "    color=\"blue\",\n",
    "    fill_color=\"blue\",\n",
    "    zoom_on_click=True,\n",
    ").add_to(m)\n",
    "\n",
    "folium.GeoJson(\n",
    "    outflow_points,\n",
    "    name=\"Outflow points\",\n",
    "    marker=folium.Circle(radius=50, fill_color=\"orange\", fill_opacity=0.4, color=\"orange\", weight=3),\n",
    "    highlight_function=lambda x: {\"fillOpacity\": 0.8},\n",
    "    zoom_on_click=True,\n",
    ").add_to(m)\n",
    "\n",
    "m\n"
   ]
  },
  {
   "cell_type": "code",
   "execution_count": null,
   "metadata": {},
   "outputs": [],
   "source": []
  }
 ],
 "metadata": {
  "kernelspec": {
   "display_name": "default",
   "language": "python",
   "name": "python3"
  },
  "language_info": {
   "codemirror_mode": {
    "name": "ipython",
    "version": 3
   },
   "file_extension": ".py",
   "mimetype": "text/x-python",
   "name": "python",
   "nbconvert_exporter": "python",
   "pygments_lexer": "ipython3",
   "version": "3.12.7"
  }
 },
 "nbformat": 4,
 "nbformat_minor": 2
}
